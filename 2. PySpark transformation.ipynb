{
 "cells": [
  {
   "cell_type": "markdown",
   "metadata": {
    "application/vnd.databricks.v1+cell": {
     "cellMetadata": {},
     "inputWidgets": {},
     "nuid": "c7f0c167-00b0-40e3-b7f6-1584ff7436c3",
     "showTitle": false,
     "tableResultSettingsMap": {},
     "title": ""
    }
   },
   "source": [
    "# PySparkによるデータ変換\n",
    "\n",
    "PythonからApache Sparkを操作する際に使用するAPIであるPySparkの基本的な使い方を説明します。\n",
    "\n",
    "**参考資料**\n",
    "- [PySparkことはじめ \\#Databricks \\- Qiita](https://qiita.com/taka_yayoi/items/a7ee6287031374efa88a)\n",
    "- [About Spark – Databricks](https://databricks.com/jp/spark/about)\n",
    "- [Databricks Apache Sparkクイックスタート \\- Qiita](https://qiita.com/taka_yayoi/items/bf5fb09a0108aa14770b)\n",
    "- [Databricks Apache Sparkデータフレームチュートリアル \\- Qiita](https://qiita.com/taka_yayoi/items/2a7e9bb792eba316de4b)\n",
    "- [PySpark Documentation — PySpark 3\\.2\\.1 documentation](https://spark.apache.org/docs/latest/api/python/)\n",
    "- [Beginner’s Guide on Databricks: Spark Using Python & PySpark \\| by Christopher Lewis \\| Analytics Vidhya \\| Medium](https://medium.com/analytics-vidhya/beginners-guide-on-databricks-spark-using-python-pyspark-de74d92e4885)\n",
    "- [【PySpark入門】第１弾 PySparkとは？ \\- サーバーワークスエンジニアブログ](https://blog.serverworks.co.jp/introducing-pyspark-1)"
   ]
  },
  {
   "cell_type": "markdown",
   "metadata": {
    "application/vnd.databricks.v1+cell": {
     "cellMetadata": {},
     "inputWidgets": {},
     "nuid": "fa0587bc-fbc9-4f82-9096-725f9fc450f1",
     "showTitle": false,
     "tableResultSettingsMap": {},
     "title": ""
    }
   },
   "source": [
    "## ライブラリのインポート\n",
    "\n",
    "処理に必要なモジュールをインポートします。"
   ]
  },
  {
   "cell_type": "code",
   "execution_count": 0,
   "metadata": {
    "application/vnd.databricks.v1+cell": {
     "cellMetadata": {
      "byteLimit": 2048000,
      "rowLimit": 10000
     },
     "inputWidgets": {},
     "nuid": "c4227b6b-d4c0-43a2-859c-d3109016b686",
     "showTitle": false,
     "tableResultSettingsMap": {},
     "title": ""
    }
   },
   "outputs": [],
   "source": [
    "from pyspark.sql.functions import col, avg\n",
    "from pyspark.sql.types import IntegerType, FloatType"
   ]
  },
  {
   "cell_type": "markdown",
   "metadata": {
    "application/vnd.databricks.v1+cell": {
     "cellMetadata": {},
     "inputWidgets": {},
     "nuid": "2759b0b9-302a-48e0-8b0c-6e933f0f7c86",
     "showTitle": false,
     "tableResultSettingsMap": {},
     "title": ""
    }
   },
   "source": [
    "## データのロード\n",
    "\n",
    "PySparkでデータをロードする際には`spark.read`を使用します。`format`の引数に読み込むデータのフォーマットを指定します。`json`、`parquet`、`delta`などが指定できます。読み込んだデータはSparkデータフレームとなります。\n",
    "\n",
    "その前に、読み込むデータを以下のコマンドで確認します。"
   ]
  },
  {
   "cell_type": "code",
   "execution_count": 0,
   "metadata": {
    "application/vnd.databricks.v1+cell": {
     "cellMetadata": {
      "byteLimit": 2048000,
      "rowLimit": 10000
     },
     "inputWidgets": {},
     "nuid": "fb35c47d-8429-41bf-b270-6db27ebf77a4",
     "showTitle": false,
     "tableResultSettingsMap": {},
     "title": ""
    }
   },
   "outputs": [],
   "source": [
    "%fs\n",
    "ls dbfs:/databricks-datasets/samples/population-vs-price/"
   ]
  },
  {
   "cell_type": "code",
   "execution_count": 0,
   "metadata": {
    "application/vnd.databricks.v1+cell": {
     "cellMetadata": {
      "byteLimit": 2048000,
      "rowLimit": 10000
     },
     "inputWidgets": {},
     "nuid": "fe164498-5758-40df-963c-d74db3eb4412",
     "showTitle": false,
     "tableResultSettingsMap": {},
     "title": ""
    }
   },
   "outputs": [],
   "source": [
    "# データフレームにサンプルデータをロードします\n",
    "df = spark.read.format(\"csv\").option(\"header\", True).load(\"/databricks-datasets/samples/population-vs-price/data_geo.csv\")"
   ]
  },
  {
   "cell_type": "code",
   "execution_count": 0,
   "metadata": {
    "application/vnd.databricks.v1+cell": {
     "cellMetadata": {
      "byteLimit": 2048000,
      "rowLimit": 10000
     },
     "inputWidgets": {},
     "nuid": "8f32ffd9-05f2-476c-877a-472cbdbf9842",
     "showTitle": false,
     "tableResultSettingsMap": {},
     "title": ""
    }
   },
   "outputs": [],
   "source": [
    "df.show(20)"
   ]
  },
  {
   "cell_type": "code",
   "execution_count": 0,
   "metadata": {
    "application/vnd.databricks.v1+cell": {
     "cellMetadata": {
      "byteLimit": 2048000,
      "rowLimit": 10000
     },
     "inputWidgets": {},
     "nuid": "b4d0f66e-e0ad-4c2f-b0b6-07d306f74deb",
     "showTitle": false,
     "tableResultSettingsMap": {},
     "title": ""
    }
   },
   "outputs": [],
   "source": [
    "# Databricksでデータフレームを表示するにはdisplay関数を使うと便利です\n",
    "display(df)"
   ]
  },
  {
   "cell_type": "markdown",
   "metadata": {
    "application/vnd.databricks.v1+cell": {
     "cellMetadata": {},
     "inputWidgets": {},
     "nuid": "8a1a2c30-2cd4-4be2-802c-d6e62dbfd794",
     "showTitle": false,
     "tableResultSettingsMap": {},
     "title": ""
    }
   },
   "source": [
    "### カラムの確認"
   ]
  },
  {
   "cell_type": "code",
   "execution_count": 0,
   "metadata": {
    "application/vnd.databricks.v1+cell": {
     "cellMetadata": {
      "byteLimit": 2048000,
      "rowLimit": 10000
     },
     "inputWidgets": {},
     "nuid": "d57f6530-ce75-4ad4-a001-3615a9c37709",
     "showTitle": false,
     "tableResultSettingsMap": {},
     "title": ""
    }
   },
   "outputs": [],
   "source": [
    "df.columns"
   ]
  },
  {
   "cell_type": "markdown",
   "metadata": {
    "application/vnd.databricks.v1+cell": {
     "cellMetadata": {},
     "inputWidgets": {},
     "nuid": "95bb5965-1077-4cfb-a54f-5cad30af43c2",
     "showTitle": false,
     "tableResultSettingsMap": {},
     "title": ""
    }
   },
   "source": [
    "### スキーマの確認"
   ]
  },
  {
   "cell_type": "code",
   "execution_count": 0,
   "metadata": {
    "application/vnd.databricks.v1+cell": {
     "cellMetadata": {
      "byteLimit": 2048000,
      "rowLimit": 10000
     },
     "inputWidgets": {},
     "nuid": "2392d846-758d-435a-8c3a-3d9a65845ab5",
     "showTitle": false,
     "tableResultSettingsMap": {},
     "title": ""
    }
   },
   "outputs": [],
   "source": [
    "# データフレームのスキーマを表示\n",
    "df.printSchema()"
   ]
  },
  {
   "cell_type": "markdown",
   "metadata": {
    "application/vnd.databricks.v1+cell": {
     "cellMetadata": {},
     "inputWidgets": {},
     "nuid": "771575ba-7305-40ce-962b-5aaad53c3808",
     "showTitle": false,
     "tableResultSettingsMap": {},
     "title": ""
    }
   },
   "source": [
    "## カラム名の変更\n",
    "\n",
    "- `withColumnRenamed`を使ってカラム名を変更します。"
   ]
  },
  {
   "cell_type": "code",
   "execution_count": 0,
   "metadata": {
    "application/vnd.databricks.v1+cell": {
     "cellMetadata": {
      "byteLimit": 2048000,
      "rowLimit": 10000
     },
     "inputWidgets": {},
     "nuid": "670ead4a-33fe-43c2-b099-c81a944dfae9",
     "showTitle": false,
     "tableResultSettingsMap": {},
     "title": ""
    }
   },
   "outputs": [],
   "source": [
    "df2 = df.withColumnRenamed('2014 rank', '2014_rank')\\\n",
    ".withColumnRenamed('State Code', 'state_code')\\\n",
    ".withColumnRenamed('2014 Population estimate', '2014_pop_estimate')\\\n",
    ".withColumnRenamed('2015 median sales price', '2015_median_sales_price')"
   ]
  },
  {
   "cell_type": "code",
   "execution_count": 0,
   "metadata": {
    "application/vnd.databricks.v1+cell": {
     "cellMetadata": {
      "byteLimit": 2048000,
      "rowLimit": 10000
     },
     "inputWidgets": {},
     "nuid": "2cbe3c93-7fe6-4d4d-ad29-ba5a0b30dca0",
     "showTitle": false,
     "tableResultSettingsMap": {},
     "title": ""
    }
   },
   "outputs": [],
   "source": [
    "display(df2)"
   ]
  },
  {
   "cell_type": "markdown",
   "metadata": {
    "application/vnd.databricks.v1+cell": {
     "cellMetadata": {},
     "inputWidgets": {},
     "nuid": "16300a6f-ec7a-45e9-a225-dd13adf072d8",
     "showTitle": false,
     "tableResultSettingsMap": {},
     "title": ""
    }
   },
   "source": [
    "## データ型の変換\n",
    "\n",
    "- 既に存在しているデータフレームのカラムを指定するには、`col`関数の引数にカラム名を指定します。\n",
    "- `cast`にデータ型を指定してキャストします。\n",
    "- `withColumn`を用いて、キャストした後の値を持つカラムで更新します。\n",
    "\n",
    "[Data Types \\- Spark 3\\.2\\.1 Documentation](https://spark.apache.org/docs/latest/sql-ref-datatypes.html)"
   ]
  },
  {
   "cell_type": "code",
   "execution_count": 0,
   "metadata": {
    "application/vnd.databricks.v1+cell": {
     "cellMetadata": {
      "byteLimit": 2048000,
      "rowLimit": 10000
     },
     "inputWidgets": {},
     "nuid": "68367af6-9e14-4a57-aaa8-384069179b1e",
     "showTitle": false,
     "tableResultSettingsMap": {},
     "title": ""
    }
   },
   "outputs": [],
   "source": [
    "df3 = df2.withColumn(\"2014_rank\", col(\"2014_rank\").cast(IntegerType()))\\\n",
    " .withColumn(\"2014_pop_estimate\", col(\"2014_pop_estimate\").cast(IntegerType()))\\\n",
    " .withColumn(\"2015_median_sales_price\", col(\"2015_median_sales_price\").cast(FloatType()))\n",
    "\n",
    "display(df3)"
   ]
  },
  {
   "cell_type": "markdown",
   "metadata": {
    "application/vnd.databricks.v1+cell": {
     "cellMetadata": {},
     "inputWidgets": {},
     "nuid": "e05a3d4d-e8dd-4da3-af7e-c5ba6b21d772",
     "showTitle": false,
     "tableResultSettingsMap": {},
     "title": ""
    }
   },
   "source": [
    "## データの操作"
   ]
  },
  {
   "cell_type": "markdown",
   "metadata": {
    "application/vnd.databricks.v1+cell": {
     "cellMetadata": {},
     "inputWidgets": {},
     "nuid": "803f82d0-c8f9-42e2-81a8-228dd54c7793",
     "showTitle": false,
     "tableResultSettingsMap": {},
     "title": ""
    }
   },
   "source": [
    "### フィルタリング、ソート\n",
    "\n",
    "以下の例では、`df3`で`2015_median_sales_price`が100より大きいレコードを`2015_median_sales_price`の降順でソートし、カラム`2014_rank`, `City`, `2015_median_sales_price`を取得しています。"
   ]
  },
  {
   "cell_type": "code",
   "execution_count": 0,
   "metadata": {
    "application/vnd.databricks.v1+cell": {
     "cellMetadata": {
      "byteLimit": 2048000,
      "rowLimit": 10000
     },
     "inputWidgets": {},
     "nuid": "2bc5dbb4-9355-4368-b240-6896df14bfc9",
     "showTitle": false,
     "tableResultSettingsMap": {},
     "title": ""
    }
   },
   "outputs": [],
   "source": [
    "display(df3.select(\"2014_rank\", \"City\", \"2015_median_sales_price\")\\\n",
    "        .where(\"2015_median_sales_price > 100\")\\\n",
    "        .orderBy(col(\"2015_median_sales_price\").desc()))"
   ]
  },
  {
   "cell_type": "markdown",
   "metadata": {
    "application/vnd.databricks.v1+cell": {
     "cellMetadata": {},
     "inputWidgets": {},
     "nuid": "3cdc1c2d-676b-43eb-8ec7-ae705e7b57c9",
     "showTitle": false,
     "tableResultSettingsMap": {},
     "title": ""
    }
   },
   "source": [
    "### 集計\n",
    "\n",
    "以下の処理を行なっています。\n",
    "\n",
    "1. `state_code`でレコードをグルーピング\n",
    "1. グループごとの`2015_median_sales_price`の平均値を計算\n",
    "1. 平均値降順でレコードを取得"
   ]
  },
  {
   "cell_type": "code",
   "execution_count": 0,
   "metadata": {
    "application/vnd.databricks.v1+cell": {
     "cellMetadata": {
      "byteLimit": 2048000,
      "rowLimit": 10000
     },
     "inputWidgets": {},
     "nuid": "3fe0f44a-9b6e-423d-891c-406fae128a18",
     "showTitle": false,
     "tableResultSettingsMap": {},
     "title": ""
    }
   },
   "outputs": [],
   "source": [
    "display(df3.groupBy(\"state_code\")\\\n",
    "        .agg(avg(\"2015_median_sales_price\").alias(\"2015_median_sales_price_avg\"))\n",
    "        .orderBy(col(\"2015_median_sales_price_avg\").desc()))"
   ]
  },
  {
   "cell_type": "markdown",
   "metadata": {
    "application/vnd.databricks.v1+cell": {
     "cellMetadata": {},
     "inputWidgets": {},
     "nuid": "6f790ebd-3558-4d42-93f5-e3d44834f022",
     "showTitle": false,
     "tableResultSettingsMap": {},
     "title": ""
    }
   },
   "source": [
    "## pandasとのやりとり\n",
    "\n",
    "matplotlibで可視化したいなどpandas前提の処理を行う場合には、Sparkデータフレームをpandasデータフレームに変換します。"
   ]
  },
  {
   "cell_type": "code",
   "execution_count": 0,
   "metadata": {
    "application/vnd.databricks.v1+cell": {
     "cellMetadata": {
      "byteLimit": 2048000,
      "rowLimit": 10000
     },
     "inputWidgets": {},
     "nuid": "8b4c266b-2ec8-4109-8aed-89d415d4c578",
     "showTitle": false,
     "tableResultSettingsMap": {},
     "title": ""
    }
   },
   "outputs": [],
   "source": [
    "df4 = df3.groupBy(\"state_code\")\\\n",
    "        .agg(avg(\"2015_median_sales_price\").alias(\"2015_median_sales_price_avg\"))\\\n",
    "        .orderBy(col(\"2015_median_sales_price_avg\").desc()).limit(10)"
   ]
  },
  {
   "cell_type": "code",
   "execution_count": 0,
   "metadata": {
    "application/vnd.databricks.v1+cell": {
     "cellMetadata": {
      "byteLimit": 2048000,
      "rowLimit": 10000
     },
     "inputWidgets": {},
     "nuid": "00abb6e4-e6f0-433f-bf1c-e19d17d3f961",
     "showTitle": false,
     "tableResultSettingsMap": {},
     "title": ""
    }
   },
   "outputs": [],
   "source": [
    "import matplotlib.pyplot as plt\n",
    "\n",
    "# pandasデータフレームに変換します\n",
    "pdf = df4.toPandas()\n",
    "\n",
    "# 棒グラフを描画します\n",
    "plt.bar(pdf['state_code'], pdf['2015_median_sales_price_avg'], align=\"center\")           \n",
    "plt.show()"
   ]
  },
  {
   "cell_type": "markdown",
   "metadata": {
    "application/vnd.databricks.v1+cell": {
     "cellMetadata": {},
     "inputWidgets": {},
     "nuid": "eb9d2853-d99e-4763-8b64-c0ffb656aa53",
     "showTitle": false,
     "tableResultSettingsMap": {},
     "title": ""
    }
   },
   "source": [
    "pandasデータフレームをSparkデータフレームに変換することもできます。"
   ]
  },
  {
   "cell_type": "code",
   "execution_count": 0,
   "metadata": {
    "application/vnd.databricks.v1+cell": {
     "cellMetadata": {
      "byteLimit": 2048000,
      "rowLimit": 10000
     },
     "inputWidgets": {},
     "nuid": "d028e381-6b48-44e1-9d8e-38b50fde146a",
     "showTitle": false,
     "tableResultSettingsMap": {},
     "title": ""
    }
   },
   "outputs": [],
   "source": [
    "# Sparkデータフレームへの変換\n",
    "sdf = spark.createDataFrame(pdf)\n",
    "display(sdf)"
   ]
  },
  {
   "cell_type": "markdown",
   "metadata": {
    "application/vnd.databricks.v1+cell": {
     "cellMetadata": {},
     "inputWidgets": {},
     "nuid": "e35f1bd9-458e-4ec4-be5a-3e65ef5338f8",
     "showTitle": false,
     "tableResultSettingsMap": {},
     "title": ""
    }
   },
   "source": [
    "## その他のAPI"
   ]
  },
  {
   "cell_type": "markdown",
   "metadata": {
    "application/vnd.databricks.v1+cell": {
     "cellMetadata": {},
     "inputWidgets": {},
     "nuid": "55369c84-987f-465e-8c64-8a7128da974e",
     "showTitle": false,
     "tableResultSettingsMap": {},
     "title": ""
    }
   },
   "source": [
    "### Spark SQL\n",
    "\n",
    "データフレームをテーブルあるいは一時ビューに登録することで、SQLを使用してデータを操作することができるようになります。\n",
    "\n",
    "テーブルは永続化されますが、一時ビューは永続化されず、クラスターが稼働している間のみ一時ビューを作成したセッションでのみ利用することができます。"
   ]
  },
  {
   "cell_type": "code",
   "execution_count": 0,
   "metadata": {
    "application/vnd.databricks.v1+cell": {
     "cellMetadata": {
      "byteLimit": 2048000,
      "rowLimit": 10000
     },
     "inputWidgets": {},
     "nuid": "4327814d-d773-4e19-afaf-a7e35ec57fbd",
     "showTitle": false,
     "tableResultSettingsMap": {},
     "title": ""
    }
   },
   "outputs": [],
   "source": [
    "# データフレームを一時ビューに登録します\n",
    "df3.createOrReplaceTempView(\"pop_price\")"
   ]
  },
  {
   "cell_type": "code",
   "execution_count": 0,
   "metadata": {
    "application/vnd.databricks.v1+cell": {
     "cellMetadata": {
      "byteLimit": 2048000,
      "rowLimit": 10000
     },
     "inputWidgets": {},
     "nuid": "557d95c9-b96b-46dc-8b2a-041a6c26b92c",
     "showTitle": false,
     "tableResultSettingsMap": {},
     "title": ""
    }
   },
   "outputs": [],
   "source": [
    "# '2014_rank' カラムに基づいて上位10位の市を参照します\n",
    "top_10_results = spark.sql(\"\"\"SELECT * FROM pop_price \n",
    "                              WHERE 2014_rank <= 10\n",
    "                              SORT BY 2014_rank ASC\"\"\")\n",
    "display(top_10_results)"
   ]
  },
  {
   "cell_type": "code",
   "execution_count": 0,
   "metadata": {
    "application/vnd.databricks.v1+cell": {
     "cellMetadata": {
      "byteLimit": 2048000,
      "implicitDf": true,
      "rowLimit": 10000
     },
     "inputWidgets": {},
     "nuid": "32d4f5b1-ed8c-4463-9a0f-96d93ecd9e7b",
     "showTitle": false,
     "tableResultSettingsMap": {},
     "title": ""
    }
   },
   "outputs": [],
   "source": [
    "%sql\n",
    "SELECT\n",
    "  *\n",
    "FROM\n",
    "  pop_price\n",
    "WHERE\n",
    "  2014_rank <= 10 SORT BY 2014_rank ASC"
   ]
  },
  {
   "cell_type": "markdown",
   "metadata": {
    "application/vnd.databricks.v1+cell": {
     "cellMetadata": {},
     "inputWidgets": {},
     "nuid": "3468c682-791b-4a67-9292-27e4d8048143",
     "showTitle": false,
     "tableResultSettingsMap": {},
     "title": ""
    }
   },
   "source": [
    "### pandas API on Spark\n",
    "\n",
    "pandas APIに慣れ親しんでいる方は、pandas API on Spark(旧Koalas)を活用することもできます。\n",
    "\n",
    "[Pandas API on Spark \\| Databricks Documentation](https://docs.databricks.com/aws/ja/pandas/pandas-on-spark)"
   ]
  },
  {
   "cell_type": "code",
   "execution_count": 0,
   "metadata": {
    "application/vnd.databricks.v1+cell": {
     "cellMetadata": {
      "byteLimit": 2048000,
      "rowLimit": 10000
     },
     "inputWidgets": {},
     "nuid": "19af515b-ed8d-4862-a171-4cdd08a77ade",
     "showTitle": false,
     "tableResultSettingsMap": {},
     "title": ""
    }
   },
   "outputs": [],
   "source": [
    "spark.conf.set(\"spark.sql.ansi.enabled\", \"false\")"
   ]
  },
  {
   "cell_type": "code",
   "execution_count": 0,
   "metadata": {
    "application/vnd.databricks.v1+cell": {
     "cellMetadata": {
      "byteLimit": 2048000,
      "rowLimit": 10000
     },
     "inputWidgets": {},
     "nuid": "451815ae-ad0f-4da2-ba7d-a094193b5942",
     "showTitle": false,
     "tableResultSettingsMap": {},
     "title": ""
    }
   },
   "outputs": [],
   "source": [
    "import pyspark.pandas as ps\n",
    "\n",
    "psdf = sdf.pandas_api()  # pandas-on-Sparkデータフレーム\n",
    "\n",
    "# pandasのお作法でカラムにアクセスします\n",
    "psdf['state_code']"
   ]
  },
  {
   "cell_type": "markdown",
   "metadata": {
    "application/vnd.databricks.v1+cell": {
     "cellMetadata": {},
     "inputWidgets": {},
     "nuid": "d79897a4-61a3-4f92-968e-28cd63a02be6",
     "showTitle": false,
     "tableResultSettingsMap": {},
     "title": ""
    }
   },
   "source": [
    "# END"
   ]
  }
 ],
 "metadata": {
  "application/vnd.databricks.v1+notebook": {
   "computePreferences": null,
   "dashboards": [],
   "environmentMetadata": null,
   "inputWidgetPreferences": null,
   "language": "python",
   "notebookMetadata": {
    "mostRecentlyExecutedCommandWithImplicitDF": {
     "commandId": 3651317472908875,
     "dataframes": [
      "_sqldf"
     ]
    },
    "pythonIndentUnit": 4
   },
   "notebookName": "2. PySpark transformation",
   "widgets": {}
  },
  "language_info": {
   "name": "python"
  }
 },
 "nbformat": 4,
 "nbformat_minor": 0
}
