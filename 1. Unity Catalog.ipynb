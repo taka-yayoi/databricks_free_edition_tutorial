{
 "cells": [
  {
   "cell_type": "markdown",
   "metadata": {
    "application/vnd.databricks.v1+cell": {
     "cellMetadata": {
      "byteLimit": 2048000,
      "rowLimit": 10000
     },
     "inputWidgets": {},
     "nuid": "5fbbd12d-3970-4033-bb61-622714a61ffc",
     "showTitle": false,
     "tableResultSettingsMap": {},
     "title": ""
    }
   },
   "source": [
    "# Unity Catalogクイックスタート(SQL)\n",
    "\n",
    "Unity Catalogを用いることで、以下の機能でDatabricks上の資産に対するガバナンスを強化することができます。\n",
    "\n",
    "- **データアクセス制御**\n",
    "  - 一度定義するだけで、全てのワークスペース、全ての言語、全てのユースケースに対してセキュリティを適用\n",
    "- **監査機能**\n",
    "  - ガバナンスユースケースに対応するために、全てのクエリーに対するきめ細かい監査を実現\n",
    "- **データリネージ**\n",
    "  - テーブル、カラムに対するデータリネージの自動収集\n",
    "- **データ探索**\n",
    "  - お使いのレイクハウスにおいてデータ利用者が信頼できるデータを検索するためのインタフェースを提供\n",
    "- **属性ベースのアクセス制御**\n",
    "  - 行列レベルのネイティブなセキュリティ、タグによるポリシー適用\n",
    "\n",
    "\n",
    "このノートブックでは、以下の方法を説明することで、Unity Catalogを使用し始めるサンプルワークフローを提供します。\n",
    "\n",
    "- カタログを選択し、新規スキーマを作成する。\n",
    "- マネージドテーブルを作成しスキーマに追加する。\n",
    "- 3レベルの名前空間を用いてテーブルにクエリーを実行する。\n",
    "- データリネージを追跡する。\n",
    "- テーブルに対するデータアクセス権を管理する。"
   ]
  },
  {
   "cell_type": "markdown",
   "metadata": {
    "application/vnd.databricks.v1+cell": {
     "cellMetadata": {
      "byteLimit": 2048000,
      "rowLimit": 10000
     },
     "inputWidgets": {},
     "nuid": "d6e6b998-2cd1-45ea-8c7b-dff6ca84ccb3",
     "showTitle": false,
     "tableResultSettingsMap": {},
     "title": ""
    }
   },
   "source": [
    "## 3レベルの名前空間\n",
    "\n",
    "Unity Catalogはデータを整理するために3レベルの名前空間、カタログ、スキーマ(データベースとも呼ばれます)、テーブルとビューを提供します。テーブルを参照するには以下の文法を使用します。\n",
    "\n",
    ">`<catalog>.<schema>.<table>`\n",
    "\n",
    "![3_level_namespace.png](./3_level_namespace.png \"3_level_namespace.png\")"
   ]
  },
  {
   "cell_type": "markdown",
   "metadata": {
    "application/vnd.databricks.v1+cell": {
     "cellMetadata": {
      "byteLimit": 2048000,
      "rowLimit": 10000
     },
     "inputWidgets": {},
     "nuid": "77d1ce01-879e-4ea4-a848-c4bd9acda721",
     "showTitle": false,
     "tableResultSettingsMap": {},
     "title": ""
    }
   },
   "source": [
    "### 新規カタログの作成\n",
    "\n",
    "それぞれのUnity Catalogメタストアには、空のスキーマ`default`を含む`workspace`というデフォルトのカタログが含まれています。\n",
    "\n",
    "新規カタログを作成するには`CREATE CATALOG`コマンドを使用します。新規カタログを作成するには、メタストア管理者である必要があります。\n",
    "\n",
    "以降のコマンドでは、以下の方法を説明します。\n",
    "\n",
    "- 新規カタログの作成\n",
    "- カタログの選択\n",
    "- 全てのカタログの表示\n",
    "- カタログに対するアクセス権の許可\n",
    "- カタログの全てのアクセス権の表示\n",
    "\n",
    "**注意** 以下では`uc_quickstart_catalog`というカタログを作成します。"
   ]
  },
  {
   "cell_type": "markdown",
   "metadata": {
    "application/vnd.databricks.v1+cell": {
     "cellMetadata": {},
     "inputWidgets": {},
     "nuid": "ac153a2c-3d0f-463a-9a50-b8851847aa47",
     "showTitle": false,
     "tableResultSettingsMap": {},
     "title": ""
    }
   },
   "source": [
    "カタログやスキーマにアクセスするには、`USE`コマンドを用いて明示的にカタログやスキーマを指定する必要があります。指定されない場合にはデフォルトのカタログやスキーマが使用されます。"
   ]
  },
  {
   "cell_type": "code",
   "execution_count": 0,
   "metadata": {
    "application/vnd.databricks.v1+cell": {
     "cellMetadata": {
      "byteLimit": 2048000,
      "rowLimit": 10000
     },
     "inputWidgets": {},
     "nuid": "03072245-e3b4-468d-811f-9dfb129c6824",
     "showTitle": false,
     "tableResultSettingsMap": {},
     "title": ""
    }
   },
   "outputs": [],
   "source": [
    "SELECT current_catalog();"
   ]
  },
  {
   "cell_type": "code",
   "execution_count": 0,
   "metadata": {
    "application/vnd.databricks.v1+cell": {
     "cellMetadata": {
      "byteLimit": 2048000,
      "rowLimit": 10000
     },
     "inputWidgets": {},
     "nuid": "666e3de4-4bd3-403a-b33a-90495320845e",
     "showTitle": false,
     "tableResultSettingsMap": {},
     "title": ""
    }
   },
   "outputs": [],
   "source": [
    "--- 新規カタログの作成\n",
    "CREATE CATALOG IF NOT EXISTS uc_quickstart_catalog;"
   ]
  },
  {
   "cell_type": "code",
   "execution_count": 0,
   "metadata": {
    "application/vnd.databricks.v1+cell": {
     "cellMetadata": {
      "byteLimit": 2048000,
      "rowLimit": 10000
     },
     "inputWidgets": {},
     "nuid": "b4929f43-9b31-4689-ac99-6a54852cda26",
     "showTitle": false,
     "tableResultSettingsMap": {},
     "title": ""
    }
   },
   "outputs": [],
   "source": [
    "-- カタログの選択\n",
    "USE CATALOG uc_quickstart_catalog;"
   ]
  },
  {
   "cell_type": "code",
   "execution_count": 0,
   "metadata": {
    "application/vnd.databricks.v1+cell": {
     "cellMetadata": {
      "byteLimit": 2048000,
      "rowLimit": 10000
     },
     "inputWidgets": {},
     "nuid": "6b66d33f-cb72-4af6-8809-af7e5bd0edca",
     "showTitle": false,
     "tableResultSettingsMap": {},
     "title": ""
    }
   },
   "outputs": [],
   "source": [
    "--- メタストアの全てのカタログの表示\n",
    "SHOW CATALOGS;"
   ]
  },
  {
   "cell_type": "code",
   "execution_count": 0,
   "metadata": {
    "application/vnd.databricks.v1+cell": {
     "cellMetadata": {
      "byteLimit": 2048000,
      "rowLimit": 10000
     },
     "inputWidgets": {},
     "nuid": "61e60c41-2e39-4329-96a2-12de641772ce",
     "showTitle": false,
     "tableResultSettingsMap": {},
     "title": ""
    }
   },
   "outputs": [],
   "source": [
    "--- アカウントの全ユーザーに対してCREATE SCHEMA, USE CATALOG権限を許可\n",
    "--- これは、他のアカウントレベルのグループ、ユーザーにも動作します\n",
    "GRANT CREATE SCHEMA, USE CATALOG\n",
    "ON CATALOG uc_quickstart_catalog\n",
    "TO `account users`;"
   ]
  },
  {
   "cell_type": "code",
   "execution_count": 0,
   "metadata": {
    "application/vnd.databricks.v1+cell": {
     "cellMetadata": {
      "byteLimit": 2048000,
      "rowLimit": 10000
     },
     "inputWidgets": {},
     "nuid": "06158772-1b4d-4827-bb57-46991c095715",
     "showTitle": false,
     "tableResultSettingsMap": {},
     "title": ""
    }
   },
   "outputs": [],
   "source": [
    "--- カタログのアクセス権の確認\n",
    "SHOW GRANT ON CATALOG uc_quickstart_catalog;"
   ]
  },
  {
   "cell_type": "markdown",
   "metadata": {
    "application/vnd.databricks.v1+cell": {
     "cellMetadata": {
      "byteLimit": 2048000,
      "rowLimit": 10000
     },
     "inputWidgets": {},
     "nuid": "0811a8bc-95de-43d4-9b29-f95145122f04",
     "showTitle": false,
     "tableResultSettingsMap": {},
     "title": ""
    }
   },
   "source": [
    "### スキーマの作成、管理\n",
    "データベースとも呼ばれるスキーマは、Unity Catalog名前空間の2番目のレイヤーです。これらはテーブルとビューを論理的に整理します。"
   ]
  },
  {
   "cell_type": "code",
   "execution_count": 0,
   "metadata": {
    "application/vnd.databricks.v1+cell": {
     "cellMetadata": {
      "byteLimit": 2048000,
      "rowLimit": 10000
     },
     "inputWidgets": {},
     "nuid": "fa648d95-7eb6-47eb-bf1b-c39f9b8304fe",
     "showTitle": false,
     "tableResultSettingsMap": {},
     "title": ""
    }
   },
   "outputs": [],
   "source": [
    "--- カタログに新規スキーマを作成\n",
    "CREATE SCHEMA IF NOT EXISTS quickstart_schema\n",
    "COMMENT \"quickstart_schemaという新規Unity Catalogのスキーマです\";"
   ]
  },
  {
   "cell_type": "code",
   "execution_count": 0,
   "metadata": {
    "application/vnd.databricks.v1+cell": {
     "cellMetadata": {
      "byteLimit": 2048000,
      "rowLimit": 10000
     },
     "inputWidgets": {},
     "nuid": "61ad543a-341d-4c12-8648-69c04766c411",
     "showTitle": false,
     "tableResultSettingsMap": {},
     "title": ""
    }
   },
   "outputs": [],
   "source": [
    "-- 選択されたカタログのスキーマを表示\n",
    "SHOW SCHEMAS;"
   ]
  },
  {
   "cell_type": "code",
   "execution_count": 0,
   "metadata": {
    "application/vnd.databricks.v1+cell": {
     "cellMetadata": {
      "byteLimit": 2048000,
      "rowLimit": 10000
     },
     "inputWidgets": {},
     "nuid": "9f87785e-709e-45a4-8b09-9bb276351fa9",
     "showTitle": false,
     "tableResultSettingsMap": {},
     "title": ""
    }
   },
   "outputs": [],
   "source": [
    "-- スキーマの詳細を表示\n",
    "DESCRIBE SCHEMA EXTENDED quickstart_schema;"
   ]
  },
  {
   "cell_type": "code",
   "execution_count": 0,
   "metadata": {
    "application/vnd.databricks.v1+cell": {
     "cellMetadata": {
      "byteLimit": 2048000,
      "rowLimit": 10000
     },
     "inputWidgets": {},
     "nuid": "e5832023-dd73-472b-bcea-22c222cf325f",
     "showTitle": false,
     "tableResultSettingsMap": {},
     "title": ""
    }
   },
   "outputs": [],
   "source": [
    "-- スキーマの削除(以下の行のコメントを解除して試してください。ノートブックの以降のコマンドを実行するには、スキーマを再作成してください)\n",
    "-- DROP SCHEMA quickstart_schema CASCADE"
   ]
  },
  {
   "cell_type": "markdown",
   "metadata": {
    "application/vnd.databricks.v1+cell": {
     "cellMetadata": {
      "byteLimit": 2048000,
      "rowLimit": 10000
     },
     "inputWidgets": {},
     "nuid": "c58185ef-a493-4047-9dd6-3e42379354e0",
     "showTitle": false,
     "tableResultSettingsMap": {},
     "title": ""
    }
   },
   "source": [
    "### マネージドテーブルの作成\n",
    "\n",
    "*マネージドテーブル*は、Unity Catalogでテーブルを作成する際のデフォルトの方法となります。`LOCATION`が指定されない場合、テーブルはメタストアに設定されたマネージドの格納場所に作成されます。\n",
    "\n",
    "以下のコマンドでは、次の方法を説明します。\n",
    "\n",
    "- スキーマの選択\n",
    "- マネージドテーブルを作成し、レコードをインサート\n",
    "- スキーマの全テーブルの表示\n",
    "- テーブルの詳細の表示"
   ]
  },
  {
   "cell_type": "code",
   "execution_count": 0,
   "metadata": {
    "application/vnd.databricks.v1+cell": {
     "cellMetadata": {
      "byteLimit": 2048000,
      "rowLimit": 10000
     },
     "inputWidgets": {},
     "nuid": "e3821bbb-151f-4eb5-a357-b16793c1118e",
     "showTitle": false,
     "tableResultSettingsMap": {},
     "title": ""
    }
   },
   "outputs": [],
   "source": [
    "-- スキーマの選択\n",
    "USE quickstart_schema;"
   ]
  },
  {
   "cell_type": "code",
   "execution_count": 0,
   "metadata": {
    "application/vnd.databricks.v1+cell": {
     "cellMetadata": {
      "byteLimit": 2048000,
      "rowLimit": 10000
     },
     "inputWidgets": {},
     "nuid": "c9d2f4ad-0c94-4452-b5e8-399c6c77c707",
     "showTitle": false,
     "tableResultSettingsMap": {},
     "title": ""
    }
   },
   "outputs": [],
   "source": [
    "-- マネージドのDeltaテーブルを作成、2行を追加\n",
    "CREATE TABLE IF NOT EXISTS quickstart_table\n",
    "  (columnA Int, columnB String) PARTITIONED BY (columnA);\n",
    "\n",
    "INSERT INTO TABLE quickstart_table\n",
    "VALUES\n",
    "  (1, \"one\"),\n",
    "  (2, \"two\");"
   ]
  },
  {
   "cell_type": "code",
   "execution_count": 0,
   "metadata": {
    "application/vnd.databricks.v1+cell": {
     "cellMetadata": {
      "byteLimit": 2048000,
      "rowLimit": 10000
     },
     "inputWidgets": {},
     "nuid": "99fa4be3-6811-4bd1-b872-04747d478f34",
     "showTitle": false,
     "tableResultSettingsMap": {},
     "title": ""
    }
   },
   "outputs": [],
   "source": [
    "-- スキーマの全テーブルの表示\n",
    "SHOW TABLES IN quickstart_schema;"
   ]
  },
  {
   "cell_type": "markdown",
   "metadata": {
    "application/vnd.databricks.v1+cell": {
     "cellMetadata": {},
     "inputWidgets": {},
     "nuid": "f4239990-5ed2-4ebc-864e-e5296cf7608c",
     "showTitle": false,
     "tableResultSettingsMap": {},
     "title": ""
    }
   },
   "source": [
    "上のコマンドを実行した結果の2行目は一旦スルーしてください。詳細は[こちら](https://docs.databricks.com/aws/ja/notebooks/notebooks-code#sql-%E3%82%BB%E3%83%AB%E3%81%AE%E7%B5%90%E6%9E%9C%E3%82%92%E8%AA%BF%E3%81%B9%E3%82%8B)をご覧ください。"
   ]
  },
  {
   "cell_type": "code",
   "execution_count": 0,
   "metadata": {
    "application/vnd.databricks.v1+cell": {
     "cellMetadata": {
      "byteLimit": 2048000,
      "rowLimit": 10000
     },
     "inputWidgets": {},
     "nuid": "11286e7b-d773-41eb-9c93-dd3875654051",
     "showTitle": false,
     "tableResultSettingsMap": {},
     "title": ""
    }
   },
   "outputs": [],
   "source": [
    "-- テーブルの詳細を表示\n",
    "DESCRIBE TABLE EXTENDED quickstart_table;"
   ]
  },
  {
   "cell_type": "markdown",
   "metadata": {
    "application/vnd.databricks.v1+cell": {
     "cellMetadata": {
      "byteLimit": 2048000,
      "rowLimit": 10000
     },
     "inputWidgets": {},
     "nuid": "53bb1022-1189-4f28-864c-b70ab44cd4c1",
     "showTitle": false,
     "tableResultSettingsMap": {},
     "title": ""
    }
   },
   "source": [
    "3レベルの名前空間を用いることで、いくつかの方法でテーブルにアクセスすることができます。\n",
    "\n",
    "- 完全修飾名によるアクセス\n",
    "- デフォルトカタログを選択し、スキーマ、テーブル名を用いてテーブルにアクセス\n",
    "- デフォルトスキーマを選択し、テーブル名を使用\n",
    "\n",
    "以下の3つのコマンドは機能的に等価です。"
   ]
  },
  {
   "cell_type": "code",
   "execution_count": 0,
   "metadata": {
    "application/vnd.databricks.v1+cell": {
     "cellMetadata": {
      "byteLimit": 2048000,
      "rowLimit": 10000
     },
     "inputWidgets": {},
     "nuid": "564d8d66-3217-4db0-b035-a1fc495361da",
     "showTitle": false,
     "tableResultSettingsMap": {},
     "title": ""
    }
   },
   "outputs": [],
   "source": [
    "-- 3レベル名前空間を用いたテーブルへのクエリーの実行\n",
    "SELECT\n",
    "  *\n",
    "FROM\n",
    "  uc_quickstart_catalog.quickstart_schema.quickstart_table;"
   ]
  },
  {
   "cell_type": "code",
   "execution_count": 0,
   "metadata": {
    "application/vnd.databricks.v1+cell": {
     "cellMetadata": {
      "byteLimit": 2048000,
      "rowLimit": 10000
     },
     "inputWidgets": {},
     "nuid": "72475a2b-6f87-4c81-8755-e52d8fd4981a",
     "showTitle": false,
     "tableResultSettingsMap": {},
     "title": ""
    }
   },
   "outputs": [],
   "source": [
    "-- デフォルトカタログを選択し、スキーマ、テーブル名でテーブルへクエリーを実行\n",
    "USE CATALOG uc_quickstart_catalog;\n",
    "SELECT *\n",
    "FROM quickstart_schema.quickstart_table;"
   ]
  },
  {
   "cell_type": "code",
   "execution_count": 0,
   "metadata": {
    "application/vnd.databricks.v1+cell": {
     "cellMetadata": {
      "byteLimit": 2048000,
      "rowLimit": 10000
     },
     "inputWidgets": {},
     "nuid": "1585a2d2-3883-4afb-a3ec-75b5cd2bbbf7",
     "showTitle": false,
     "tableResultSettingsMap": {},
     "title": ""
    }
   },
   "outputs": [],
   "source": [
    "-- デフォルトカタログとデフォルトスキーマを選択し、テーブル名でテーブルへクエリーを実行\n",
    "USE CATALOG uc_quickstart_catalog;\n",
    "USE quickstart_schema;\n",
    "SELECT *\n",
    "FROM quickstart_table;"
   ]
  },
  {
   "cell_type": "markdown",
   "metadata": {
    "application/vnd.databricks.v1+cell": {
     "cellMetadata": {
      "byteLimit": 2048000,
      "rowLimit": 10000
     },
     "inputWidgets": {},
     "nuid": "5311e840-e3cd-4449-95ed-3a8662047d49",
     "showTitle": false,
     "tableResultSettingsMap": {},
     "title": ""
    }
   },
   "source": [
    "#### テーブルの削除\n",
    "\n",
    "`DROP TABLE`コマンドで*マネージドテーブル*を削除すると、背後のデータファイルも削除されます。\n",
    "\n",
    "`DROP TABLE`コマンドで*外部テーブル*を削除すると、テーブルに関するメタデータはカタログから削除されますが、背後のデータファイルは削除されません。"
   ]
  },
  {
   "cell_type": "code",
   "execution_count": 0,
   "metadata": {
    "application/vnd.databricks.v1+cell": {
     "cellMetadata": {
      "byteLimit": 2048000,
      "rowLimit": 10000
     },
     "inputWidgets": {},
     "nuid": "8f2fe37c-b356-436b-822c-4cdee10b3e9d",
     "showTitle": false,
     "tableResultSettingsMap": {},
     "title": ""
    }
   },
   "outputs": [],
   "source": [
    "-- マネージドテーブルの削除(以下の行のコメントを解除して試してください。ノートブックの以降のコマンドを実行するには、テーブルを再作成してください)\n",
    "-- DROP TABLE uc_quickstart_catalog.quickstart_schema.quickstart_table"
   ]
  },
  {
   "cell_type": "markdown",
   "metadata": {
    "application/vnd.databricks.v1+cell": {
     "cellMetadata": {
      "byteLimit": 2048000,
      "rowLimit": 10000
     },
     "inputWidgets": {},
     "nuid": "9af8c662-a4cf-43ab-9f8b-95ea6ce2336f",
     "showTitle": false,
     "tableResultSettingsMap": {},
     "title": ""
    }
   },
   "source": [
    "## リネージの追跡\n",
    "\n",
    "Unity Catalogで管理されるテーブルはリネージ(系統情報)が追跡されます。どのテーブルからどのテーブルが作成されたのか、カラムレベルで追跡が可能です。\n",
    "\n",
    "[Unity Catalogを使用してデータリネージを表示](https://docs.databricks.com/aws/ja/data-governance/unity-catalog/data-lineage)"
   ]
  },
  {
   "cell_type": "code",
   "execution_count": 0,
   "metadata": {
    "application/vnd.databricks.v1+cell": {
     "cellMetadata": {
      "byteLimit": 2048000,
      "rowLimit": 10000
     },
     "inputWidgets": {},
     "nuid": "626ecbfd-a64d-45e4-802d-c7075940316d",
     "showTitle": false,
     "tableResultSettingsMap": {},
     "title": ""
    }
   },
   "outputs": [],
   "source": [
    "-- スキーマを作成し、権限を付与します\n",
    "CREATE SCHEMA lineagedemo;\n",
    "GRANT USE SCHEMA, CREATE TABLE ON SCHEMA lineagedemo TO `account users`;"
   ]
  },
  {
   "cell_type": "code",
   "execution_count": 0,
   "metadata": {
    "application/vnd.databricks.v1+cell": {
     "cellMetadata": {
      "byteLimit": 2048000,
      "rowLimit": 10000
     },
     "inputWidgets": {},
     "nuid": "5c60df5e-b4f3-4caf-b9ce-957b71e4d32c",
     "showTitle": false,
     "tableResultSettingsMap": {},
     "title": ""
    }
   },
   "outputs": [],
   "source": [
    "-- スキーマの全テーブルの表示\n",
    "SHOW TABLES IN uc_quickstart_catalog.lineagedemo"
   ]
  },
  {
   "cell_type": "code",
   "execution_count": 0,
   "metadata": {
    "application/vnd.databricks.v1+cell": {
     "cellMetadata": {
      "byteLimit": 2048000,
      "rowLimit": 10000
     },
     "inputWidgets": {},
     "nuid": "b24c2829-920b-426c-8438-5158c9f5c562",
     "showTitle": false,
     "tableResultSettingsMap": {},
     "title": ""
    }
   },
   "outputs": [],
   "source": [
    "--DROP TABLE uc_quickstart_catalog.lineagedemo.dinner;\n",
    "--DROP TABLE uc_quickstart_catalog.lineagedemo.menu;"
   ]
  },
  {
   "cell_type": "code",
   "execution_count": 0,
   "metadata": {
    "application/vnd.databricks.v1+cell": {
     "cellMetadata": {
      "byteLimit": 2048000,
      "rowLimit": 10000
     },
     "inputWidgets": {},
     "nuid": "280afbdf-a425-4f41-999a-df0bce27bf85",
     "showTitle": false,
     "tableResultSettingsMap": {},
     "title": ""
    }
   },
   "outputs": [],
   "source": [
    "-- ソーステーブルを作成します\n",
    "CREATE TABLE IF NOT EXISTS uc_quickstart_catalog.lineagedemo.menu (\n",
    "  recipe_id INT,\n",
    "  app string,\n",
    "  main string,\n",
    "  desert string\n",
    ");\n",
    "\n",
    "INSERT INTO uc_quickstart_catalog.lineagedemo.menu \n",
    "    (recipe_id, app, main, desert) \n",
    "VALUES \n",
    "    (1,\"Ceviche\", \"Tacos\", \"Flan\"),\n",
    "    (2,\"Tomato Soup\", \"Souffle\", \"Creme Brulee\"),\n",
    "    (3,\"Chips\",\"Grilled Cheese\",\"Cheescake\");"
   ]
  },
  {
   "cell_type": "code",
   "execution_count": 0,
   "metadata": {
    "application/vnd.databricks.v1+cell": {
     "cellMetadata": {
      "byteLimit": 2048000,
      "rowLimit": 10000
     },
     "inputWidgets": {},
     "nuid": "d368b540-17d7-4009-b35b-02a259a9acaf",
     "showTitle": false,
     "tableResultSettingsMap": {},
     "title": ""
    }
   },
   "outputs": [],
   "source": [
    "-- ソーステーブルから派生テーブルを作成します\n",
    "CREATE TABLE uc_quickstart_catalog.lineagedemo.dinner \n",
    "AS SELECT recipe_id, concat(app,\" + \", main,\" + \",desert) as full_menu FROM uc_quickstart_catalog.lineagedemo.menu"
   ]
  },
  {
   "cell_type": "markdown",
   "metadata": {
    "application/vnd.databricks.v1+cell": {
     "cellMetadata": {
      "byteLimit": 2048000,
      "rowLimit": 10000
     },
     "inputWidgets": {},
     "nuid": "a0425895-6e6a-48fc-9a9c-5c55e0d423fe",
     "showTitle": false,
     "tableResultSettingsMap": {},
     "title": ""
    }
   },
   "source": [
    "<a href=\"/explore/data/uc_quickstart_catalog/lineagedemo\" target=\"_blank\">カタログエクスプローラ</a>でリネージを確認します。"
   ]
  },
  {
   "cell_type": "markdown",
   "metadata": {
    "application/vnd.databricks.v1+cell": {
     "cellMetadata": {
      "byteLimit": 2048000,
      "rowLimit": 10000
     },
     "inputWidgets": {},
     "nuid": "9a433309-1b29-4d81-8f85-555f813557ae",
     "showTitle": false,
     "tableResultSettingsMap": {},
     "title": ""
    }
   },
   "source": [
    "## データに対するアクセス権の管理\n",
    "\n",
    "データへのアクセスを管理するために、`GRANT`と`REVOKE`文を使用します。Unity Catalogはデフォルトでセキュリティ保護を行い、データへのアクセスは自動では許可されません。最初は、全てのユーザーがデータにアクセスすることができません。メタストアの管理者とデータのオーナーが、アカウントレベルのユーザーとグループに対してアクセス権の許可、剥奪を行うことができます。\n",
    "\n",
    "[Unity Catalog権限とセキュリティ保護可能なオブジェクト](https://docs.databricks.com/aws/ja/data-governance/unity-catalog/manage-privileges/privileges)\n",
    "\n",
    "#### オーナーシップ\n",
    "\n",
    "Unity Catalogのそれぞれのオブジェクトにはオーナーが存在します。*プリンシパル*と呼ばれるアカウントレベルのユーザー、グループがオーナーになることができます。プリンシパルはセキュリティ保護可能なオブジェクトを作成する際、あるいは`ALTER`文を用いてオーナーシップが転送された際にオーナーになります。"
   ]
  },
  {
   "cell_type": "markdown",
   "metadata": {
    "application/vnd.databricks.v1+cell": {
     "cellMetadata": {
      "byteLimit": 2048000,
      "rowLimit": 10000
     },
     "inputWidgets": {},
     "nuid": "2d96b909-80df-4767-b4ac-c96f36048699",
     "showTitle": false,
     "tableResultSettingsMap": {},
     "title": ""
    }
   },
   "source": [
    "### アクセス権の管理\n",
    "\n",
    "Unity Catalogのオブジェクトに対して以下のアクセス権を許可することができます。\n",
    "- `ALL PRIVILEGES`: セキュリティ保護可能なオブジェクトとその子オブジェクトに適用されるすべての権限を、明示的に指定せずに付与または取り消すために使用されます。\n",
    "- `SELECT`: テーブル、ビューからデータを読み込むことを許可します。\n",
    "- `MODIFY`: テーブルへの行追加、更新、データの削除を許可します。\n",
    "- `CREATE CATALOG/SCHEMA/TABLE`: カタログ、スキーマにセキュリティ保護可能な子供のオブジェクトを作成することを許可します。\n",
    "- `USAGE CATALOG/SCHEMA`: このアクセス権はセキュリティ保護可能なオブジェクト自身へのアクセスを許可しませんが、子供のオブジェクトにアクセスするためにセキュリティ保護可能オブジェクトを通過することを許可します。例えば、テーブルからデータを取得するためには、ユーザーは当該テーブルに対する`USAGE`権限と、親のスキーマ、親のカタログに対する`USAGE`権限を必要とします。特定のグループに対してデータの名前空間のセクションへのアクセスを制限するために、この権限を使用することができます。\n",
    "\n",
    "権限は子供のセキュリティ保護可能なオブジェクトに**継承されます**。\n",
    "\n",
    "[権限継承へのアップグレード](https://docs.databricks.com/aws/ja/data-governance/unity-catalog/manage-privileges/upgrade-privilege-model)\n",
    "\n",
    "以下のコマンドでは、次の方法を説明します。\n",
    "\n",
    "- アクセス権の許可\n",
    "- セキュリティ保護可能オブジェクトに対するアクセス権の表示\n",
    "- アクセス権の剥奪"
   ]
  },
  {
   "cell_type": "markdown",
   "metadata": {
    "application/vnd.databricks.v1+cell": {
     "cellMetadata": {
      "byteLimit": 2048000,
      "rowLimit": 10000
     },
     "inputWidgets": {},
     "nuid": "5181e07d-ddb6-4f2b-920b-e972aeb72d4b",
     "showTitle": false,
     "tableResultSettingsMap": {},
     "title": ""
    }
   },
   "source": [
    "#### アクセス権の許可\n",
    "\n",
    "セキュリティ保護可能オブジェクトにプリンシパルのアクセス権を許可します。メタストア管理者とセキュリティ保護可能オブジェクトのオーナーのみがアクセス権を許可することができます。"
   ]
  },
  {
   "cell_type": "code",
   "execution_count": 0,
   "metadata": {
    "application/vnd.databricks.v1+cell": {
     "cellMetadata": {
      "byteLimit": 2048000,
      "rowLimit": 10000
     },
     "inputWidgets": {},
     "nuid": "300ea08d-cc03-4c5d-b1f5-cb6b15545d50",
     "showTitle": false,
     "tableResultSettingsMap": {},
     "title": ""
    }
   },
   "outputs": [],
   "source": [
    "-- スキーマの USE を許可\n",
    "GRANT USE SCHEMA\n",
    "ON SCHEMA quickstart_schema\n",
    "TO `account users`;"
   ]
  },
  {
   "cell_type": "code",
   "execution_count": 0,
   "metadata": {
    "application/vnd.databricks.v1+cell": {
     "cellMetadata": {
      "byteLimit": 2048000,
      "rowLimit": 10000
     },
     "inputWidgets": {},
     "nuid": "adb3594d-e28e-45b5-a73f-cdb3783859b5",
     "showTitle": false,
     "tableResultSettingsMap": {},
     "title": ""
    }
   },
   "outputs": [],
   "source": [
    "-- プリンシパルに対してテーブルの　SELECT を許可\n",
    "GRANT SELECT\n",
    "ON TABLE quickstart_schema.quickstart_table\n",
    "TO `account users`;"
   ]
  },
  {
   "cell_type": "markdown",
   "metadata": {
    "application/vnd.databricks.v1+cell": {
     "cellMetadata": {
      "byteLimit": 2048000,
      "rowLimit": 10000
     },
     "inputWidgets": {},
     "nuid": "a2c12761-968b-4817-8a03-52fccb7e11e2",
     "showTitle": false,
     "tableResultSettingsMap": {},
     "title": ""
    }
   },
   "source": [
    "#### アクセス権の表示\n",
    "\n",
    "セキュリティ保護可能なオブジェクトに許可された全てのアクセス権の一覧を表示します。"
   ]
  },
  {
   "cell_type": "code",
   "execution_count": 0,
   "metadata": {
    "application/vnd.databricks.v1+cell": {
     "cellMetadata": {
      "byteLimit": 2048000,
      "rowLimit": 10000
     },
     "inputWidgets": {},
     "nuid": "e545fc75-becd-4d8d-b742-dad2ded1cb89",
     "showTitle": false,
     "tableResultSettingsMap": {},
     "title": ""
    }
   },
   "outputs": [],
   "source": [
    "-- quickstart_tableのアクセス権の表示\n",
    "SHOW GRANTS\n",
    "ON TABLE uc_quickstart_catalog.quickstart_schema.quickstart_table;"
   ]
  },
  {
   "cell_type": "code",
   "execution_count": 0,
   "metadata": {
    "application/vnd.databricks.v1+cell": {
     "cellMetadata": {
      "byteLimit": 2048000,
      "rowLimit": 10000
     },
     "inputWidgets": {},
     "nuid": "2a88526a-937e-4efe-ab6b-240dd2af5025",
     "showTitle": false,
     "tableResultSettingsMap": {},
     "title": ""
    }
   },
   "outputs": [],
   "source": [
    "-- quickstart_schemaのアクセス権の表示\n",
    "SHOW GRANTS\n",
    "ON SCHEMA uc_quickstart_catalog.quickstart_schema;"
   ]
  },
  {
   "cell_type": "markdown",
   "metadata": {
    "application/vnd.databricks.v1+cell": {
     "cellMetadata": {
      "byteLimit": 2048000,
      "rowLimit": 10000
     },
     "inputWidgets": {},
     "nuid": "57df43a1-c874-4184-8f22-21b3a3670d5a",
     "showTitle": false,
     "tableResultSettingsMap": {},
     "title": ""
    }
   },
   "source": [
    "#### アクセス権の剥奪\n",
    "\n",
    "これまで許可されていたセキュリティ保護可能なオブジェクトのアクセス権をプリンシパルから剥奪します。"
   ]
  },
  {
   "cell_type": "code",
   "execution_count": 0,
   "metadata": {
    "application/vnd.databricks.v1+cell": {
     "cellMetadata": {
      "byteLimit": 2048000,
      "rowLimit": 10000
     },
     "inputWidgets": {},
     "nuid": "45b9157b-3b1c-46cc-857e-01f04f159794",
     "showTitle": false,
     "tableResultSettingsMap": {},
     "title": ""
    }
   },
   "outputs": [],
   "source": [
    "REVOKE SELECT\n",
    "ON TABLE quickstart_schema.quickstart_table\n",
    "FROM `account users`;"
   ]
  },
  {
   "cell_type": "code",
   "execution_count": 0,
   "metadata": {
    "application/vnd.databricks.v1+cell": {
     "cellMetadata": {
      "byteLimit": 2048000,
      "rowLimit": 10000
     },
     "inputWidgets": {},
     "nuid": "c1ddc801-c16c-4bf9-99f6-d8b603a4546b",
     "showTitle": false,
     "tableResultSettingsMap": {},
     "title": ""
    }
   },
   "outputs": [],
   "source": [
    "-- quickstart_tableのアクセス権の表示\n",
    "SHOW GRANTS\n",
    "ON TABLE uc_quickstart_catalog.quickstart_schema.quickstart_table;"
   ]
  },
  {
   "cell_type": "markdown",
   "metadata": {
    "application/vnd.databricks.v1+cell": {
     "cellMetadata": {
      "byteLimit": 2048000,
      "rowLimit": 10000
     },
     "inputWidgets": {},
     "nuid": "33c75f9c-7479-41d5-af0c-7a349b2aa05c",
     "showTitle": false,
     "tableResultSettingsMap": {},
     "title": ""
    }
   },
   "source": [
    "## クリーンアップ\n",
    "\n",
    "以下の`DROP CATALOG ... CASCADE`でカタログおよび内部のスキーマ、テーブルを削除します。"
   ]
  },
  {
   "cell_type": "code",
   "execution_count": 0,
   "metadata": {
    "application/vnd.databricks.v1+cell": {
     "cellMetadata": {
      "byteLimit": 2048000,
      "rowLimit": 10000
     },
     "inputWidgets": {},
     "nuid": "a762ee3a-469e-458f-a52f-512747eef50e",
     "showTitle": false,
     "tableResultSettingsMap": {},
     "title": ""
    }
   },
   "outputs": [],
   "source": [
    "DROP CATALOG uc_quickstart_catalog CASCADE;"
   ]
  },
  {
   "cell_type": "markdown",
   "metadata": {
    "application/vnd.databricks.v1+cell": {
     "cellMetadata": {
      "byteLimit": 2048000,
      "rowLimit": 10000
     },
     "inputWidgets": {},
     "nuid": "f43b4118-d509-43eb-86df-838de1031e23",
     "showTitle": false,
     "tableResultSettingsMap": {},
     "title": ""
    }
   },
   "source": [
    "# END"
   ]
  }
 ],
 "metadata": {
  "application/vnd.databricks.v1+notebook": {
   "computePreferences": null,
   "dashboards": [],
   "environmentMetadata": null,
   "inputWidgetPreferences": null,
   "language": "sql",
   "notebookMetadata": {
    "pythonIndentUnit": 4
   },
   "notebookName": "1. Unity Catalog",
   "widgets": {}
  },
  "language_info": {
   "name": "sql"
  }
 },
 "nbformat": 4,
 "nbformat_minor": 0
}
