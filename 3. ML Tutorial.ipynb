{
 "cells": [
  {
   "cell_type": "markdown",
   "metadata": {
    "application/vnd.databricks.v1+cell": {
     "cellMetadata": {
      "byteLimit": 2048000,
      "rowLimit": 10000
     },
     "inputWidgets": {},
     "nuid": "213ad73e-945c-4614-ab43-14c3e92f0408",
     "showTitle": false,
     "tableResultSettingsMap": {},
     "title": ""
    }
   },
   "source": [
    "# Databricksにおける機械学習モデルの構築と管理\n",
    "\n",
    "Databricks の `scikit-learn` ライブラリを使用して機械学習分類モデルを構築する方法について説明します。\n",
    "\n",
    "目標は、ワインが「高品質」と見なされるかどうかを予測する分類モデルを作成することです。 データセットは、さまざまなワインの 11 の特徴 (アルコール含有量、酸度、残留糖など) と、1 から 10 の品質ランキングで構成されています。\n",
    "\n",
    "この例では、[MLflow](https://docs.databricks.com/aws/ja/mlflow/) を使用してモデル開発プロセスを追跡します。\n",
    "\n",
    "[チュートリアル: Databricks で初めての機械学習モデルを構築する \\| Databricks Documentation](https://docs.databricks.com/aws/ja/getting-started/ml-get-started)"
   ]
  },
  {
   "cell_type": "markdown",
   "metadata": {
    "application/vnd.databricks.v1+cell": {
     "cellMetadata": {
      "byteLimit": 2048000,
      "rowLimit": 10000
     },
     "inputWidgets": {},
     "nuid": "b1bde27b-2f9f-4aa7-9bed-1307ca149b06",
     "showTitle": false,
     "tableResultSettingsMap": {},
     "title": ""
    }
   },
   "source": [
    "## ライブラリのインストール"
   ]
  },
  {
   "cell_type": "code",
   "execution_count": 0,
   "metadata": {
    "application/vnd.databricks.v1+cell": {
     "cellMetadata": {
      "byteLimit": 2048000,
      "rowLimit": 10000
     },
     "inputWidgets": {},
     "nuid": "e589d000-adc4-4420-9186-d9a77839a2d3",
     "showTitle": false,
     "tableResultSettingsMap": {},
     "title": ""
    }
   },
   "outputs": [],
   "source": [
    "%pip install -U mlflow\n",
    "%restart_python"
   ]
  },
  {
   "cell_type": "markdown",
   "metadata": {
    "application/vnd.databricks.v1+cell": {
     "cellMetadata": {
      "byteLimit": 2048000,
      "rowLimit": 10000
     },
     "inputWidgets": {},
     "nuid": "430d2283-96a9-480f-baff-079bdb329336",
     "showTitle": false,
     "tableResultSettingsMap": {},
     "title": ""
    }
   },
   "source": [
    "## モデルレジストリ、カタログ、スキーマの設定\n",
    "\n",
    "モデルレジストリとしてUnity Catalogを使用するように、MLflowクライアントを構成する必要があります。"
   ]
  },
  {
   "cell_type": "code",
   "execution_count": 0,
   "metadata": {
    "application/vnd.databricks.v1+cell": {
     "cellMetadata": {
      "byteLimit": 2048000,
      "rowLimit": 10000
     },
     "inputWidgets": {},
     "nuid": "ddcd369e-bf9f-41e9-9e72-aa70e8030206",
     "showTitle": false,
     "tableResultSettingsMap": {},
     "title": ""
    }
   },
   "outputs": [],
   "source": [
    "import mlflow\n",
    "mlflow.set_registry_uri(\"databricks-uc\")"
   ]
  },
  {
   "cell_type": "markdown",
   "metadata": {
    "application/vnd.databricks.v1+cell": {
     "cellMetadata": {
      "byteLimit": 2048000,
      "rowLimit": 10000
     },
     "inputWidgets": {},
     "nuid": "560e48bf-8329-423c-ad7b-7beb4f3aad2e",
     "showTitle": false,
     "tableResultSettingsMap": {},
     "title": ""
    }
   },
   "source": [
    "また、モデルが登録されるカタログとスキーマも設定する必要があります。"
   ]
  },
  {
   "cell_type": "code",
   "execution_count": 0,
   "metadata": {
    "application/vnd.databricks.v1+cell": {
     "cellMetadata": {
      "byteLimit": 2048000,
      "rowLimit": 10000
     },
     "inputWidgets": {},
     "nuid": "95d131cd-1930-4f14-a31e-0e7976fcc94b",
     "showTitle": false,
     "tableResultSettingsMap": {},
     "title": ""
    }
   },
   "outputs": [],
   "source": [
    "# 必要に応じて、「workspace」と「default」を、必要な権限を持つカタログおよびスキーマに置き換えてください。\n",
    "CATALOG_NAME = \"workspace\"\n",
    "SCHEMA_NAME = \"default\""
   ]
  },
  {
   "cell_type": "markdown",
   "metadata": {
    "application/vnd.databricks.v1+cell": {
     "cellMetadata": {
      "byteLimit": 2048000,
      "rowLimit": 10000
     },
     "inputWidgets": {},
     "nuid": "85b6a876-31dc-4481-8cf1-2b1aa604c03d",
     "showTitle": false,
     "tableResultSettingsMap": {},
     "title": ""
    }
   },
   "source": [
    "## EDA(探索的データ分析)\n",
    "\n",
    "機械学習モデルを構築する際には、トレーニングに使用するデータの特徴や傾向を把握することが重要です。Databricksの機能やライブラリを活用して、いくつかの切り口でデータを可視化して、データへの理解を深めます。これが探索的データ分析(EDA: Exploratory Data Analysis)です。"
   ]
  },
  {
   "cell_type": "code",
   "execution_count": 0,
   "metadata": {
    "application/vnd.databricks.v1+cell": {
     "cellMetadata": {
      "byteLimit": 2048000,
      "rowLimit": 10000
     },
     "inputWidgets": {},
     "nuid": "067d211e-93f8-459b-a2bc-ac2f4021e331",
     "showTitle": false,
     "tableResultSettingsMap": {},
     "title": ""
    }
   },
   "outputs": [],
   "source": [
    "import pandas as pd\n",
    "\n",
    "# CSVファイルからデータを読み込み\n",
    "white_wine = pd.read_csv(\"/dbfs/databricks-datasets/wine-quality/winequality-white.csv\", sep=\";\")\n",
    "red_wine = pd.read_csv(\"/dbfs/databricks-datasets/wine-quality/winequality-red.csv\", sep=\";\")\n",
    "\n",
    "# フラグを追加\n",
    "red_wine['is_red'] = 1\n",
    "white_wine['is_red'] = 0\n",
    "\n",
    "# データフレームを結合\n",
    "wine_data = pd.concat([red_wine, white_wine], axis=0)"
   ]
  },
  {
   "cell_type": "markdown",
   "metadata": {
    "application/vnd.databricks.v1+cell": {
     "cellMetadata": {
      "byteLimit": 2048000,
      "rowLimit": 10000
     },
     "inputWidgets": {},
     "nuid": "69365cf6-6fdf-4aa6-b768-0a5bdfb69b09",
     "showTitle": false,
     "tableResultSettingsMap": {},
     "title": ""
    }
   },
   "source": [
    "データの中身を確認します。Databricksでは`display`関数を用いることで、簡単にデータを可視化することができます。"
   ]
  },
  {
   "cell_type": "code",
   "execution_count": 0,
   "metadata": {
    "application/vnd.databricks.v1+cell": {
     "cellMetadata": {
      "byteLimit": 2048000,
      "rowLimit": 10000
     },
     "inputWidgets": {},
     "nuid": "27bb30aa-6b1e-4d50-89cc-2a7dcecbf510",
     "showTitle": false,
     "tableResultSettingsMap": {},
     "title": ""
    }
   },
   "outputs": [],
   "source": [
    "display(wine_data)"
   ]
  },
  {
   "cell_type": "markdown",
   "metadata": {
    "application/vnd.databricks.v1+cell": {
     "cellMetadata": {
      "byteLimit": 2048000,
      "rowLimit": 10000
     },
     "inputWidgets": {},
     "nuid": "338c8c21-78ce-4c5c-a3cf-9638cfdf1b4c",
     "showTitle": false,
     "tableResultSettingsMap": {},
     "title": ""
    }
   },
   "source": [
    "目的変数の`quality`のヒストグラムをプロットします。"
   ]
  },
  {
   "cell_type": "code",
   "execution_count": 0,
   "metadata": {
    "application/vnd.databricks.v1+cell": {
     "cellMetadata": {
      "byteLimit": 2048000,
      "rowLimit": 10000
     },
     "inputWidgets": {},
     "nuid": "258b0043-345f-4186-8296-a97eaac59d89",
     "showTitle": false,
     "tableResultSettingsMap": {},
     "title": ""
    }
   },
   "outputs": [],
   "source": [
    "import seaborn as sns\n",
    "wine_data = wine_data.sort_values(\"quality\")\n",
    "sns.histplot(data=wine_data.quality)"
   ]
  },
  {
   "cell_type": "markdown",
   "metadata": {
    "application/vnd.databricks.v1+cell": {
     "cellMetadata": {
      "byteLimit": 2048000,
      "rowLimit": 10000
     },
     "inputWidgets": {},
     "nuid": "7f6647a0-5de5-4d15-877e-c081309050f0",
     "showTitle": false,
     "tableResultSettingsMap": {},
     "title": ""
    }
   },
   "source": [
    "## データを読み込み、Unity Catalogテーブルを作成\n",
    "\n",
    "この例では、`databricks-datasets`で使用できる2つのCSVファイルを使用します。\n",
    "\n",
    "以下のコードは、次のことを行います。\n",
    "\n",
    "1. `winequality-white.csv`と`winequality-red.csv`からデータを読み取り、Sparkデータフレームに読み込みます。先ほどはPandasデータフレームを使いましたが、Pandasデータフレームは直接テーブルに書き込めないため、ここではSparkデータフレームを使います。\n",
    "1. 列名のスペースをアンダースコアに置き換えて、データをクリーンアップします。\n",
    "1. データフレーム を Unity Catalogの `white_wine` テーブルと `red_wine` テーブルに書き込みます。データを Unity Catalog に保存すると、データが保持され、他のユーザーと共有する方法を制御できます。"
   ]
  },
  {
   "cell_type": "code",
   "execution_count": 0,
   "metadata": {
    "application/vnd.databricks.v1+cell": {
     "cellMetadata": {
      "byteLimit": 2048000,
      "rowLimit": 10000
     },
     "inputWidgets": {},
     "nuid": "d0df013a-b3b5-40c2-ae87-94943a63e7b5",
     "showTitle": false,
     "tableResultSettingsMap": {},
     "title": ""
    }
   },
   "outputs": [],
   "source": [
    "white_wine = spark.read.csv(\"/databricks-datasets/wine-quality/winequality-white.csv\", sep=';', header=True)\n",
    "red_wine = spark.read.csv(\"/databricks-datasets/wine-quality/winequality-red.csv\", sep=';', header=True)\n",
    "\n",
    "# 列名からスペースを削除\n",
    "for c in white_wine.columns:\n",
    "    white_wine = white_wine.withColumnRenamed(c, c.replace(\" \", \"_\"))\n",
    "for c in red_wine.columns:\n",
    "    red_wine = red_wine.withColumnRenamed(c, c.replace(\" \", \"_\"))\n",
    "\n",
    "# テーブル名を定義\n",
    "red_wine_table = f\"{CATALOG_NAME}.{SCHEMA_NAME}.red_wine\"\n",
    "white_wine_table = f\"{CATALOG_NAME}.{SCHEMA_NAME}.white_wine\"\n",
    "\n",
    "# Unity Catalogのテーブルに書き込み\n",
    "spark.sql(f\"DROP TABLE IF EXISTS {red_wine_table}\")\n",
    "spark.sql(f\"DROP TABLE IF EXISTS {white_wine_table}\")\n",
    "white_wine.write.saveAsTable(f\"{CATALOG_NAME}.{SCHEMA_NAME}.white_wine\")\n",
    "red_wine.write.saveAsTable(f\"{CATALOG_NAME}.{SCHEMA_NAME}.red_wine\")"
   ]
  },
  {
   "cell_type": "markdown",
   "metadata": {
    "application/vnd.databricks.v1+cell": {
     "cellMetadata": {
      "byteLimit": 2048000,
      "rowLimit": 10000
     },
     "inputWidgets": {},
     "nuid": "d16980a2-4d49-4555-bea9-56c2647f5e93",
     "showTitle": false,
     "tableResultSettingsMap": {},
     "title": ""
    }
   },
   "source": [
    "テーブルを確認しましょう。以下のコマンドを実行して表示されるリンクをクリックしてください。"
   ]
  },
  {
   "cell_type": "code",
   "execution_count": 0,
   "metadata": {
    "application/vnd.databricks.v1+cell": {
     "cellMetadata": {
      "byteLimit": 2048000,
      "rowLimit": 10000
     },
     "inputWidgets": {},
     "nuid": "9aa102d7-4860-4b74-a05b-2e7dd7b17192",
     "showTitle": false,
     "tableResultSettingsMap": {},
     "title": ""
    }
   },
   "outputs": [],
   "source": [
    "displayHTML(f\"<a href='/explore/data/{CATALOG_NAME}/{SCHEMA_NAME}'>テーブルを確認</a>\")"
   ]
  },
  {
   "cell_type": "markdown",
   "metadata": {
    "application/vnd.databricks.v1+cell": {
     "cellMetadata": {
      "byteLimit": 2048000,
      "rowLimit": 10000
     },
     "inputWidgets": {},
     "nuid": "b070f935-6b58-475f-bcd1-2aabf7bbd560",
     "showTitle": false,
     "tableResultSettingsMap": {},
     "title": ""
    }
   },
   "source": [
    "## データの前処理と分割\n",
    "\n",
    "このステップでは、前のステップで作成した Unity Catalog テーブルから Pandas データフレーム にデータを読み込み、データを前処理します。 このセクションのコードでは、次のことを行います。\n",
    "\n",
    "1. データを Pandas データフレームとしてロードします。\n",
    "1. 赤ワインと白ワインを区別するために各 にBoolean 列を追加し、2つのデータフレームを新しいデータフレーム`データフレーム データフレーム`data_df`に結合します。\n",
    "1. データセットには、ワインを 1 から 10 まで評価する `quality` 列が含まれており、10 は最高品質を示します。 このコードは、この列を 2 つの分類値に変換します。\"True\" は高品質のワイン (`quality >= 7`) を示し、\"False\" は高品質ではないワイン (`quality < 7`) を示します。\n",
    "1. データフレーム を個別のトレーニング データセットとテスト データセットに分割します。"
   ]
  },
  {
   "cell_type": "code",
   "execution_count": 0,
   "metadata": {
    "application/vnd.databricks.v1+cell": {
     "cellMetadata": {
      "byteLimit": 2048000,
      "rowLimit": 10000
     },
     "inputWidgets": {},
     "nuid": "0682d96e-57b4-443d-bfb8-48ee95c94c01",
     "showTitle": false,
     "tableResultSettingsMap": {},
     "title": ""
    }
   },
   "outputs": [],
   "source": [
    "import numpy as np\n",
    "import pandas as pd\n",
    "import sklearn.datasets\n",
    "import sklearn.metrics\n",
    "import sklearn.model_selection\n",
    "import sklearn.ensemble\n",
    "\n",
    "import matplotlib.pyplot as plt"
   ]
  },
  {
   "cell_type": "code",
   "execution_count": 0,
   "metadata": {
    "application/vnd.databricks.v1+cell": {
     "cellMetadata": {
      "byteLimit": 2048000,
      "rowLimit": 10000
     },
     "inputWidgets": {},
     "nuid": "7076c2d3-3556-4d23-b468-69c3440d81ad",
     "showTitle": false,
     "tableResultSettingsMap": {},
     "title": ""
    }
   },
   "outputs": [],
   "source": [
    "# Unity CatalogからデータをPandasデータフレームとして読み込む\n",
    "white_wine = spark.read.table(f\"{CATALOG_NAME}.{SCHEMA_NAME}.white_wine\").toPandas()\n",
    "red_wine = spark.read.table(f\"{CATALOG_NAME}.{SCHEMA_NAME}.red_wine\").toPandas()\n",
    "\n",
    "# 赤ワイン・白ワインのブール型フィールドを追加\n",
    "white_wine['is_red'] = 0.0\n",
    "red_wine['is_red'] = 1.0\n",
    "data_df = pd.concat([white_wine, red_wine], axis=0)\n",
    "\n",
    "# ワインの品質に基づいて分類ラベルを定義\n",
    "data_labels = data_df['quality'].astype('int') >= 7\n",
    "data_df = data_df.drop(['quality'], axis=1)\n",
    "\n",
    "# 80/20で学習用・テスト用に分割\n",
    "X_train, X_test, y_train, y_test = sklearn.model_selection.train_test_split(\n",
    "  data_df,\n",
    "  data_labels,\n",
    "  test_size=0.2,\n",
    "  random_state=1\n",
    ")"
   ]
  },
  {
   "cell_type": "markdown",
   "metadata": {
    "application/vnd.databricks.v1+cell": {
     "cellMetadata": {
      "byteLimit": 2048000,
      "rowLimit": 10000
     },
     "inputWidgets": {},
     "nuid": "e1b0d7f4-0d96-4f3f-b944-9061d4270986",
     "showTitle": false,
     "tableResultSettingsMap": {},
     "title": ""
    }
   },
   "source": [
    "## 分類モデルのトレーニング\n",
    "\n",
    "この手順では、デフォルト アルゴリズム設定を使用して勾配ブースティング分類器をトレーニングします。 次に、結果のモデルをテストデータセットに適用し、 [ROC(Receiver Operating Characteristic)曲線](https://ja.wikipedia.org/wiki/%E5%8F%97%E4%BF%A1%E8%80%85%E6%93%8D%E4%BD%9C%E7%89%B9%E6%80%A7)のAUC(Area Under Curve)を計算、ログ、および表示して、モデルのパフォーマンスを評価します。"
   ]
  },
  {
   "cell_type": "code",
   "execution_count": 0,
   "metadata": {
    "application/vnd.databricks.v1+cell": {
     "cellMetadata": {
      "byteLimit": 2048000,
      "rowLimit": 10000
     },
     "inputWidgets": {},
     "nuid": "4e8b17a1-6095-49e7-ace5-155cd43fee54",
     "showTitle": false,
     "tableResultSettingsMap": {},
     "title": ""
    }
   },
   "outputs": [],
   "source": [
    "# MLflow の自動ログ記録を有効にします\n",
    "mlflow.autolog()"
   ]
  },
  {
   "cell_type": "markdown",
   "metadata": {
    "application/vnd.databricks.v1+cell": {
     "cellMetadata": {
      "byteLimit": 2048000,
      "rowLimit": 10000
     },
     "inputWidgets": {},
     "nuid": "29bfe946-6ffb-48e2-a7de-2e1d161bccfe",
     "showTitle": false,
     "tableResultSettingsMap": {},
     "title": ""
    }
   },
   "source": [
    "モデルトレーニングを実行します。"
   ]
  },
  {
   "cell_type": "code",
   "execution_count": 0,
   "metadata": {
    "application/vnd.databricks.v1+cell": {
     "cellMetadata": {
      "byteLimit": 2048000,
      "rowLimit": 10000
     },
     "inputWidgets": {},
     "nuid": "b48d1baf-4b45-4c5b-8ebd-98cf189661bf",
     "showTitle": false,
     "tableResultSettingsMap": {},
     "title": ""
    }
   },
   "outputs": [],
   "source": [
    "white_dataset = mlflow.data.load_delta(table_name=f\"{CATALOG_NAME}.{SCHEMA_NAME}.white_wine\", version=\"0\")\n",
    "red_dataset = mlflow.data.load_delta(table_name=f\"{CATALOG_NAME}.{SCHEMA_NAME}.red_wine\", version=\"0\")"
   ]
  },
  {
   "cell_type": "code",
   "execution_count": 0,
   "metadata": {
    "application/vnd.databricks.v1+cell": {
     "cellMetadata": {
      "byteLimit": 2048000,
      "rowLimit": 10000
     },
     "inputWidgets": {},
     "nuid": "63e0972a-d712-4347-b284-8969390b13fc",
     "showTitle": false,
     "tableResultSettingsMap": {},
     "title": ""
    }
   },
   "outputs": [],
   "source": [
    "with mlflow.start_run(run_name='gradient_boost') as run:\n",
    "    model = sklearn.ensemble.GradientBoostingClassifier(random_state=0)\n",
    "\n",
    "    # モデル、パラメータ、学習メトリクスは自動でトラッキングされます\n",
    "    model.fit(X_train, y_train)\n",
    "\n",
    "    predicted_probs = model.predict_proba(X_test)\n",
    "    roc_auc = sklearn.metrics.roc_auc_score(y_test, predicted_probs[:,1])\n",
    "    roc_curve = sklearn.metrics.RocCurveDisplay.from_estimator(model, X_test, y_test)\n",
    "\n",
    "    # ROC曲線のプロットをファイルに保存\n",
    "    roc_curve.figure_.savefig(\"roc_curve.png\")\n",
    "\n",
    "    # テストデータのAUCスコアは自動で記録されないため、手動で記録\n",
    "    mlflow.log_metric(\"test_auc\", roc_auc)\n",
    "\n",
    "    # ROC曲線画像ファイルをアーティファクトとして記録\n",
    "    mlflow.log_artifact(\"roc_curve.png\")\n",
    "\n",
    "    # トレーニングデータも記録します\n",
    "    mlflow.log_input(white_dataset, context=\"training\")\n",
    "    mlflow.log_input(red_dataset, context=\"training\")\n",
    "\n",
    "    print(\"テストAUC: {}\".format(roc_auc))"
   ]
  },
  {
   "cell_type": "markdown",
   "metadata": {
    "application/vnd.databricks.v1+cell": {
     "cellMetadata": {
      "byteLimit": 2048000,
      "rowLimit": 10000
     },
     "inputWidgets": {},
     "nuid": "b293bd5e-c84f-4587-b0ab-fb464a589f9a",
     "showTitle": false,
     "tableResultSettingsMap": {},
     "title": ""
    }
   },
   "source": [
    "## MLflowでのエクスペリメントランの参照\n",
    "\n",
    "MLflowのエクスペリメントトラッキングは、モデルを反復的に開発するときにコードと結果をログに記録することで、モデル開発を追跡するのに役立ちます。\n",
    "\n",
    "上のセルの出力に表示されている**View Logged Model**のリンクをクリックします。"
   ]
  },
  {
   "cell_type": "markdown",
   "metadata": {
    "application/vnd.databricks.v1+cell": {
     "cellMetadata": {
      "byteLimit": 2048000,
      "rowLimit": 10000
     },
     "inputWidgets": {},
     "nuid": "85a62aee-e01c-4332-a4be-000e8f03de16",
     "showTitle": false,
     "tableResultSettingsMap": {},
     "title": ""
    }
   },
   "source": [
    "## モデルをUnity Catalogに登録\n",
    "\n",
    "ここまでは試行錯誤を通じた**実験**段階です。モデルが目標精度、性能を達成した場合には本番運用に進むことになります。DatabricksのUnity Catalogは本番運用におけるモデル管理の機能である**モデルレジストリ**を提供しています。\n",
    "\n",
    "また、上で記録したモデルにはGUIだけではなく、Pythonからもアクセスできるのでモデルの運用を自動化することも可能です。"
   ]
  },
  {
   "cell_type": "code",
   "execution_count": 0,
   "metadata": {
    "application/vnd.databricks.v1+cell": {
     "cellMetadata": {
      "byteLimit": 2048000,
      "rowLimit": 10000
     },
     "inputWidgets": {},
     "nuid": "54a86dfe-a8d3-4f52-8502-46cf3fea6ce7",
     "showTitle": false,
     "tableResultSettingsMap": {},
     "title": ""
    }
   },
   "outputs": [],
   "source": [
    "# テストAUCでランをソートします。同点の場合は最新のランを使用します。\n",
    "best_run = mlflow.search_runs(\n",
    "  order_by=['metrics.test_auc DESC', 'start_time DESC'],\n",
    "  max_results=10,\n",
    ").iloc[0]\n",
    "print('ベストラン')\n",
    "print('AUC: {}'.format(best_run[\"metrics.test_auc\"]))\n",
    "print('推定器数: {}'.format(best_run[\"params.n_estimators\"]))\n",
    "print('最大深さ: {}'.format(best_run[\"params.max_depth\"]))\n",
    "print('学習率: {}'.format(best_run[\"params.learning_rate\"]))"
   ]
  },
  {
   "cell_type": "markdown",
   "metadata": {
    "application/vnd.databricks.v1+cell": {
     "cellMetadata": {
      "byteLimit": 2048000,
      "rowLimit": 10000
     },
     "inputWidgets": {},
     "nuid": "b6dcc60e-e70e-458b-8824-87e8ba898472",
     "showTitle": false,
     "tableResultSettingsMap": {},
     "title": ""
    }
   },
   "source": [
    "Pythonを用いて上の分類モデルをUnity Catalogに記録します。"
   ]
  },
  {
   "cell_type": "code",
   "execution_count": 0,
   "metadata": {
    "application/vnd.databricks.v1+cell": {
     "cellMetadata": {
      "byteLimit": 2048000,
      "rowLimit": 10000
     },
     "inputWidgets": {},
     "nuid": "7145b4a7-5fe5-49a2-a12e-5d5e286076f7",
     "showTitle": false,
     "tableResultSettingsMap": {},
     "title": ""
    }
   },
   "outputs": [],
   "source": [
    "model_uri = 'runs:/{run_id}/model'.format(\n",
    "    run_id=best_run.run_id\n",
    "  )\n",
    "\n",
    "mlflow.register_model(model_uri, f\"{CATALOG_NAME}.{SCHEMA_NAME}.wine_quality_model\")"
   ]
  },
  {
   "cell_type": "markdown",
   "metadata": {
    "application/vnd.databricks.v1+cell": {
     "cellMetadata": {
      "byteLimit": 2048000,
      "rowLimit": 10000
     },
     "inputWidgets": {},
     "nuid": "762c0f43-eb82-4e41-8e19-cd2fa5ef4a33",
     "showTitle": false,
     "tableResultSettingsMap": {},
     "title": ""
    }
   },
   "source": [
    "上のリンクをクリックして、**依存関係**のタブをクリックしてみましょう。\n",
    "\n",
    "このあとはテストを経て本番環境へのデプロイに進むことになります。興味のある方は[Mosaic AI Model Serving を使用したモデルのデプロイ](https://docs.databricks.com/aws/ja/machine-learning/model-serving/)をご覧ください。"
   ]
  }
 ],
 "metadata": {
  "application/vnd.databricks.v1+notebook": {
   "computePreferences": null,
   "dashboards": [],
   "environmentMetadata": {
    "base_environment": "",
    "environment_version": "2"
   },
   "inputWidgetPreferences": null,
   "language": "python",
   "notebookMetadata": {
    "pythonIndentUnit": 4
   },
   "notebookName": "3. ML Tutorial",
   "widgets": {}
  },
  "language_info": {
   "name": "python"
  }
 },
 "nbformat": 4,
 "nbformat_minor": 0
}
