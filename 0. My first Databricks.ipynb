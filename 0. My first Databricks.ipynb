{
 "cells": [
  {
   "cell_type": "markdown",
   "metadata": {
    "application/vnd.databricks.v1+cell": {
     "cellMetadata": {},
     "inputWidgets": {},
     "nuid": "8f36b483-669e-4561-b3b5-a0eee9196247",
     "showTitle": false,
     "tableResultSettingsMap": {},
     "title": ""
    }
   },
   "source": [
    "# はじめてのDatabricks\n",
    "\n",
    "このノートブックではDatabricksの基本的な使い方をご説明します。\n",
    "\n",
    "[はじめてのDatabricks](https://qiita.com/taka_yayoi/items/8dc72d083edb879a5e5d)"
   ]
  },
  {
   "cell_type": "markdown",
   "metadata": {
    "application/vnd.databricks.v1+cell": {
     "cellMetadata": {},
     "inputWidgets": {},
     "nuid": "9ae0bb05-8c87-4658-b55f-e2ac30f8637b",
     "showTitle": false,
     "tableResultSettingsMap": {},
     "title": ""
    }
   },
   "source": [
    "## Databricksの使い方\n",
    "\n",
    "![how_to_use.png](./how_to_use.png \"how_to_use.png\")"
   ]
  },
  {
   "cell_type": "markdown",
   "metadata": {
    "application/vnd.databricks.v1+cell": {
     "cellMetadata": {},
     "inputWidgets": {},
     "nuid": "c6136e8e-ba46-49bf-b355-fcef9d48c6bf",
     "showTitle": false,
     "tableResultSettingsMap": {},
     "title": ""
    }
   },
   "source": [
    "## 画面の説明\n",
    "\n",
    "Databricksでデータ分析を行う際に頻繁に使用するのが、今画面に表示している**ノートブック**です。AIアシスタントをはじめ、分析者の生産性を高めるための工夫が随所に施されています。\n",
    "\n",
    "- [日本語設定](https://qiita.com/taka_yayoi/items/ff4127e0d632f5e02603)\n",
    "- [ワークスペース](https://docs.databricks.com/ja/workspace/index.html)\n",
    "- [ノートブック](https://docs.databricks.com/ja/notebooks/index.html)の作成"
   ]
  },
  {
   "cell_type": "markdown",
   "metadata": {
    "application/vnd.databricks.v1+cell": {
     "cellMetadata": {},
     "inputWidgets": {},
     "nuid": "c67824a0-e396-4342-af50-e6b57b0c73a3",
     "showTitle": false,
     "tableResultSettingsMap": {},
     "title": ""
    }
   },
   "source": [
    "## 計算資源(コンピュート)\n",
    "\n",
    "Databricksにおける計算資源は[コンピュート](https://docs.databricks.com/ja/compute/index.html)と呼ばれます。Databricksが全てを管理する**サーバレス**の計算資源も利用できます。\n",
    "\n",
    "- コンピュート\n",
    "- SQLウェアハウス\n",
    "\n",
    "ここでは、画面の右上にある**接続**ボタンをおして、**サーバレスコンピュート**を選択します。\n",
    "\n",
    "![](./compute1.png)\n",
    "\n",
    "**接続済み**となれば計算資源を使用してプログラムを実行することができます。\n",
    "\n",
    "![](./compute2.png)\n",
    "\n",
    "プログラムを実行するにはセルの左上にある▶︎ボタンをクリックします。"
   ]
  },
  {
   "cell_type": "code",
   "execution_count": 0,
   "metadata": {
    "application/vnd.databricks.v1+cell": {
     "cellMetadata": {
      "byteLimit": 2048000,
      "rowLimit": 10000
     },
     "inputWidgets": {},
     "nuid": "43625ee4-97c1-475b-ae6c-a18cf5679f93",
     "showTitle": false,
     "tableResultSettingsMap": {},
     "title": ""
    }
   },
   "outputs": [],
   "source": [
    "print(\"Hello Databricks!\")"
   ]
  },
  {
   "cell_type": "markdown",
   "metadata": {
    "application/vnd.databricks.v1+cell": {
     "cellMetadata": {},
     "inputWidgets": {},
     "nuid": "fb7f3bf3-d887-45b6-b352-10c3682c32c5",
     "showTitle": false,
     "tableResultSettingsMap": {},
     "title": ""
    }
   },
   "source": [
    "## データの読み込み\n",
    "\n",
    "Databricksでは上述のコンピュートを用いて、ファイルやテーブルにアクセスします。SQLやPython、Rなどを活用することができます。Databricksノートブックではこれらの[複数の言語を混在](https://docs.databricks.com/ja/notebooks/notebooks-code.html#mix-languages)させることができます。\n",
    "\n",
    "![how_to_use2.png](./how_to_use2.png \"how_to_use2.png\")\n",
    "\n",
    "- [ビジュアライゼーション/データプロファイル](https://docs.databricks.com/ja/visualizations/index.html)\n",
    "- [AIアシスタント](https://docs.databricks.com/ja/notebooks/databricks-assistant-faq.html)\n",
    "\n",
    "AIアシスタントを活用してロジックを組み立てることができます。アシスタントを呼び出すには下のセルにカーソルを合わせると右上に表示される![assistant.png](./assistant.png \"assistant.png\")アイコンをクリックします。そして、プロンプトボックスに以下のプロンプトを入力し、**生成**をクリックします。\n",
    "\n",
    "![](prompt.png)\n",
    "\n",
    "プロンプト: `samples.tpch.ordersの中身を1000行表示`"
   ]
  },
  {
   "cell_type": "code",
   "execution_count": 0,
   "metadata": {
    "application/vnd.databricks.v1+cell": {
     "cellMetadata": {
      "byteLimit": 2048000,
      "rowLimit": 10000
     },
     "inputWidgets": {},
     "nuid": "5ce4b4c0-5ad7-4be2-96a2-25d8907cc519",
     "showTitle": false,
     "tableResultSettingsMap": {},
     "title": ""
    }
   },
   "outputs": [
    {
     "output_type": "display_data",
     "data": {
      "text/plain": [
       "Databricks visualization. Run in Databricks to view."
      ]
     },
     "metadata": {
      "application/vnd.databricks.v1.subcommand+json": {
       "baseErrorDetails": null,
       "bindings": {},
       "collapsed": false,
       "command": "%python\n__backend_agg_display_orig = display\n__backend_agg_dfs = []\ndef __backend_agg_display_new(df):\n    __backend_agg_df_modules = [\"pandas.core.frame\", \"databricks.koalas.frame\", \"pyspark.sql.dataframe\", \"pyspark.pandas.frame\", \"pyspark.sql.connect.dataframe\"]\n    if (type(df).__module__ in __backend_agg_df_modules and type(df).__name__ == 'DataFrame') or isinstance(df, list):\n        __backend_agg_dfs.append(df)\n\ndisplay = __backend_agg_display_new\n\ndef __backend_agg_user_code_fn():\n    import base64\n    exec(base64.standard_b64decode(\"b3JkZXJzX2RmID0gc3BhcmsudGFibGUoInNhbXBsZXMudHBjaC5vcmRlcnMiKQpkaXNwbGF5KG9yZGVyc19kZi5saW1pdCgxMDAwKSk=\").decode())\n\ntry:\n    # run user code\n    __backend_agg_user_code_fn()\n\n    #reset display function\n    display = __backend_agg_display_orig\n\n    if len(__backend_agg_dfs) > 0:\n        # create a temp view\n        if type(__backend_agg_dfs[0]).__module__ == \"databricks.koalas.frame\":\n            # koalas dataframe\n            __backend_agg_dfs[0].to_spark().createOrReplaceTempView(\"DatabricksViewbec8510\")\n        elif type(__backend_agg_dfs[0]).__module__ == \"pandas.core.frame\" or isinstance(__backend_agg_dfs[0], list):\n            # pandas dataframe\n            spark.createDataFrame(__backend_agg_dfs[0]).createOrReplaceTempView(\"DatabricksViewbec8510\")\n        else:\n            __backend_agg_dfs[0].createOrReplaceTempView(\"DatabricksViewbec8510\")\n        #run backend agg\n        display(spark.sql(\"\"\"WITH q AS (select * from DatabricksViewbec8510) SELECT DATE_TRUNC('YEAR',`o_orderdate`) `column_71fc486198`,SUM(`o_totalprice`) `column_71fc4861100`,`o_orderpriority` FROM q GROUP BY `column_71fc486198`,`o_orderpriority`\"\"\"))\n    else:\n        displayHTML(\"dataframe no longer exists. If you're using dataframe.display(), use display(dataframe) instead.\")\n\n\nfinally:\n    spark.sql(\"drop view if exists DatabricksViewbec8510\")\n    display = __backend_agg_display_orig\n    del __backend_agg_display_new\n    del __backend_agg_display_orig\n    del __backend_agg_dfs\n    del __backend_agg_user_code_fn\n\n",
       "commandTitle": "可視化 1",
       "commandType": "auto",
       "commandVersion": 0,
       "commentThread": [],
       "commentsVisible": false,
       "contentSha256Hex": null,
       "customPlotOptions": {
        "redashChart": [
         {
          "key": "type",
          "value": "CHART"
         },
         {
          "key": "options",
          "value": {
           "alignYAxesAtZero": true,
           "coefficient": 1,
           "columnConfigurationMap": {
            "series": {
             "column": "o_orderpriority",
             "id": "column_71fc4861102"
            },
            "x": {
             "column": "o_orderdate",
             "id": "column_71fc486198",
             "transform": "YEAR_LEVEL"
            },
            "y": [
             {
              "column": "o_totalprice",
              "id": "column_71fc4861100",
              "transform": "SUM"
             }
            ]
           },
           "dateTimeFormat": "DD/MM/YYYY HH:mm",
           "direction": {
            "type": "counterclockwise"
           },
           "error_y": {
            "type": "data",
            "visible": true
           },
           "globalSeriesType": "column",
           "isAggregationOn": true,
           "legend": {
            "traceorder": "normal"
           },
           "missingValuesAsZero": true,
           "numberFormat": "0,0.[00000]",
           "percentFormat": "0[.]00%",
           "series": {
            "error_y": {
             "type": "data",
             "visible": true
            },
            "stacking": "stack"
           },
           "seriesOptions": {
            "column_71fc4861100": {
             "type": "column",
             "yAxis": 0
            }
           },
           "showDataLabels": false,
           "sizemode": "diameter",
           "sortX": true,
           "sortY": true,
           "swappedAxes": false,
           "textFormat": "",
           "useAggregationsUi": true,
           "valuesOptions": {},
           "version": 2,
           "xAxis": {
            "labels": {
             "enabled": true
            },
            "type": "-"
           },
           "yAxis": [
            {
             "type": "-"
            },
            {
             "opposite": true,
             "type": "-"
            }
           ]
          }
         }
        ]
       },
       "datasetPreviewNameToCmdIdMap": {},
       "diffDeletes": [],
       "diffInserts": [],
       "displayType": "redashChart",
       "error": null,
       "errorDetails": null,
       "errorSummary": null,
       "errorTraceType": null,
       "finishTime": 0,
       "globalVars": {},
       "guid": "",
       "height": "auto",
       "hideCommandCode": false,
       "hideCommandResult": false,
       "iPythonMetadata": null,
       "inputWidgets": {},
       "isLockedInExamMode": false,
       "latestUser": "a user",
       "latestUserId": null,
       "listResultMetadata": null,
       "metadata": {},
       "nuid": "ef6a97f5-445b-497f-9bc4-1ff9a95320e8",
       "origId": 0,
       "parentHierarchy": [],
       "pivotAggregation": null,
       "pivotColumns": null,
       "position": 9.0,
       "resultDbfsErrorMessage": null,
       "resultDbfsStatus": "INLINED_IN_TREE",
       "results": null,
       "showCommandTitle": false,
       "startTime": 0,
       "state": "input",
       "streamStates": {},
       "subcommandOptions": {
        "queryPlan": {
         "groups": [
          {
           "column": "column_71fc486198",
           "type": "column"
          },
          {
           "column": "o_orderpriority",
           "type": "column"
          }
         ],
         "selects": [
          {
           "alias": "column_71fc486198",
           "args": [
            {
             "column": "o_orderdate",
             "type": "column"
            },
            {
             "string": "YEAR",
             "type": "string"
            }
           ],
           "function": "DATE_TRUNC",
           "type": "function"
          },
          {
           "alias": "column_71fc4861100",
           "args": [
            {
             "column": "o_totalprice",
             "type": "column"
            }
           ],
           "function": "SUM",
           "type": "function"
          },
          {
           "column": "o_orderpriority",
           "type": "column"
          }
         ]
        }
       },
       "submitTime": 0,
       "subtype": "tableResultSubCmd.visualization",
       "tableResultIndex": 0,
       "tableResultSettingsMap": {},
       "useConsistentColors": false,
       "version": "CommandV1",
       "width": "auto",
       "workflows": null,
       "xColumns": null,
       "yColumns": null
      }
     },
     "output_type": "display_data"
    }
   ],
   "source": []
  },
  {
   "cell_type": "markdown",
   "metadata": {
    "application/vnd.databricks.v1+cell": {
     "cellMetadata": {},
     "inputWidgets": {},
     "nuid": "574c9579-6214-4487-9ae9-0e7d175142a3",
     "showTitle": false,
     "tableResultSettingsMap": {},
     "title": ""
    }
   },
   "source": [
    "## データの加工\n",
    "\n",
    "AIアシスタントを活用してロジックを組み立てることができます。なお、アシスタントを活用する際には**具体的に**指示することが重要です。\n",
    "\n",
    "プロンプト:`クエリーの処理に関する日本語コメントを追加して`\n",
    "\n",
    "**参考資料**\n",
    "\n",
    "- [Databricksアシスタントの新機能を試す](https://qiita.com/taka_yayoi/items/058f324960cecceef218)\n",
    "- [Databricksアシスタントを用いたEDA\\(探索的データ分析\\)](https://qiita.com/taka_yayoi/items/07c49c2de588a101b719)\n",
    "- [DatabricksアシスタントによるEDA\\(探索的データ分析\\) その2](https://qiita.com/taka_yayoi/items/29af5ef10aeba01ca391)\n",
    "- [Databricksアシスタントによるデータエンジニアリング](https://qiita.com/taka_yayoi/items/b76ca7f8f11dce2be1c3)"
   ]
  },
  {
   "cell_type": "code",
   "execution_count": 0,
   "metadata": {
    "application/vnd.databricks.v1+cell": {
     "cellMetadata": {
      "byteLimit": 2048000,
      "implicitDf": true,
      "rowLimit": 10000
     },
     "inputWidgets": {},
     "nuid": "68ac194d-eaac-4e43-ac1d-c31991cd6946",
     "showTitle": false,
     "tableResultSettingsMap": {},
     "title": ""
    }
   },
   "outputs": [],
   "source": [
    "%sql\n",
    "SELECT\n",
    "  o_orderkey,         \n",
    "  o_custkey,          \n",
    "  o_orderstatus,      \n",
    "  o_totalprice,       \n",
    "  o_orderdate,        \n",
    "  o_orderpriority     \n",
    "FROM\n",
    "  samples.tpch.orders\n",
    "WHERE\n",
    "  o_orderdate = \"1998-07-01\"    \n",
    "  AND o_totalprice >= 100000"
   ]
  },
  {
   "cell_type": "markdown",
   "metadata": {
    "application/vnd.databricks.v1+cell": {
     "cellMetadata": {},
     "inputWidgets": {},
     "nuid": "807dc575-7b92-49c7-8b5b-49a8aae7a890",
     "showTitle": false,
     "tableResultSettingsMap": {},
     "title": ""
    }
   },
   "source": [
    "## データの書き込み\n",
    "\n",
    "テーブルから別のテーブルを作成するといった作業をしていると、`このテーブルはどうやって作ったんだっけ？`となりがちです。そのような依存関係は、Databricksでは **リネージ(系統情報)** として自動で記録されます。\n",
    "\n",
    "- [リネージ](https://docs.databricks.com/ja/data-governance/unity-catalog/data-lineage.html)"
   ]
  },
  {
   "cell_type": "code",
   "execution_count": 0,
   "metadata": {
    "application/vnd.databricks.v1+cell": {
     "cellMetadata": {
      "byteLimit": 2048000,
      "implicitDf": true,
      "rowLimit": 10000
     },
     "inputWidgets": {},
     "nuid": "0d0d63d4-c030-4edf-b584-918be0380f8a",
     "showTitle": false,
     "tableResultSettingsMap": {},
     "title": ""
    }
   },
   "outputs": [],
   "source": [
    "%sql\n",
    "CREATE TABLE workspace.default.tpch_orders_199807 AS\n",
    "SELECT\n",
    "  o_orderkey,\n",
    "  o_custkey,\n",
    "  o_orderstatus,\n",
    "  o_totalprice,\n",
    "  o_orderdate,\n",
    "  o_orderpriority\n",
    "FROM\n",
    "  samples.tpch.orders\n",
    "WHERE\n",
    "  o_orderdate = \"1998-07-01\"\n",
    "  AND o_totalprice >= 100000"
   ]
  },
  {
   "cell_type": "markdown",
   "metadata": {
    "application/vnd.databricks.v1+cell": {
     "cellMetadata": {},
     "inputWidgets": {},
     "nuid": "9618a208-8415-4642-a815-2063e6bae82d",
     "showTitle": false,
     "tableResultSettingsMap": {},
     "title": ""
    }
   },
   "source": [
    "上で作成したテーブルから、さらに別のテーブルを作成します。"
   ]
  },
  {
   "cell_type": "code",
   "execution_count": 0,
   "metadata": {
    "application/vnd.databricks.v1+cell": {
     "cellMetadata": {
      "byteLimit": 2048000,
      "implicitDf": true,
      "rowLimit": 10000
     },
     "inputWidgets": {},
     "nuid": "1b8abb9f-4d9a-468a-bc59-a382dd870323",
     "showTitle": false,
     "tableResultSettingsMap": {},
     "title": ""
    }
   },
   "outputs": [],
   "source": [
    "%sql\n",
    "CREATE TABLE workspace.default.tpch_orders_199807_derived AS\n",
    "SELECT\n",
    "  COUNT(o_orderpriority) AS order_cnt,\n",
    "  o_orderpriority\n",
    "FROM\n",
    "  workspace.default.tpch_orders_199807\n",
    "GROUP BY\n",
    "  o_orderpriority\n",
    "ORDER BY\n",
    "  order_cnt DESC"
   ]
  },
  {
   "cell_type": "markdown",
   "metadata": {
    "application/vnd.databricks.v1+cell": {
     "cellMetadata": {},
     "inputWidgets": {},
     "nuid": "df0a9f66-2bcb-4d2d-b52c-cf58c909fdec",
     "showTitle": false,
     "tableResultSettingsMap": {},
     "title": ""
    }
   },
   "source": [
    "[カタログエクスプローラ](/explore/data/workspace/default)でテーブルを確認しましょう。\n",
    "\n",
    "また、[リネージ](/explore/data/workspace/default/tpch_orders_199807?activeTab=lineage)を確認してみましょう。**リネージグラフ**ボタンをクリックすることでより視覚的に関係性を確認することができます。"
   ]
  },
  {
   "cell_type": "markdown",
   "metadata": {
    "application/vnd.databricks.v1+cell": {
     "cellMetadata": {},
     "inputWidgets": {},
     "nuid": "4d13d8a3-a8cf-4308-b176-7cf4699a886c",
     "showTitle": false,
     "tableResultSettingsMap": {},
     "title": ""
    }
   },
   "source": [
    "## クリーンアップ"
   ]
  },
  {
   "cell_type": "code",
   "execution_count": 0,
   "metadata": {
    "application/vnd.databricks.v1+cell": {
     "cellMetadata": {
      "byteLimit": 2048000,
      "implicitDf": true,
      "rowLimit": 10000
     },
     "inputWidgets": {},
     "nuid": "d5565772-85a8-4a90-8753-cf5fd9e9be00",
     "showTitle": false,
     "tableResultSettingsMap": {},
     "title": ""
    }
   },
   "outputs": [],
   "source": [
    "%sql\n",
    "DROP TABLE workspace.default.tpch_orders_199807_derived;\n",
    "DROP TABLE workspace.default.tpch_orders_199807;"
   ]
  },
  {
   "cell_type": "markdown",
   "metadata": {
    "application/vnd.databricks.v1+cell": {
     "cellMetadata": {},
     "inputWidgets": {},
     "nuid": "5b148070-b30d-4834-91fb-1bddbf6d39a6",
     "showTitle": false,
     "tableResultSettingsMap": {},
     "title": ""
    }
   },
   "source": [
    "**参考資料**\n",
    "\n",
    "- [Databricksドキュメント \\| Databricks on AWS](https://docs.databricks.com/ja/index.html)\n",
    "- [はじめてのDatabricks](https://qiita.com/taka_yayoi/items/8dc72d083edb879a5e5d)\n",
    "- [Databricksチュートリアル](https://qiita.com/taka_yayoi/items/4603091dd325c77d577f)\n",
    "- [Databricks記事のまとめページ\\(その1\\)](https://qiita.com/taka_yayoi/items/c6907e2b861cb1070f4d)\n",
    "- [Databricks記事のまとめページ\\(その2\\)](https://qiita.com/taka_yayoi/items/68fc3d67880d2dcb32bb)"
   ]
  }
 ],
 "metadata": {
  "application/vnd.databricks.v1+notebook": {
   "computePreferences": null,
   "dashboards": [],
   "environmentMetadata": null,
   "inputWidgetPreferences": null,
   "language": "python",
   "notebookMetadata": {
    "mostRecentlyExecutedCommandWithImplicitDF": {
     "commandId": 3651317472908980,
     "dataframes": [
      "_sqldf"
     ]
    },
    "pythonIndentUnit": 2
   },
   "notebookName": "0. My first Databricks",
   "widgets": {}
  },
  "language_info": {
   "name": "python"
  }
 },
 "nbformat": 4,
 "nbformat_minor": 0
}
